{
 "cells": [
  {
   "cell_type": "markdown",
   "metadata": {},
   "source": [
    "# Programming for Data Analysis Project\n",
    "For this project I will be synthesizing a dataset, to do so I will be using various functions of the numpy.random package to create interpretations of real world phenomenon, a lot of the work done for this notebook will be in determining what this data looks like in reality so that the synthetic data is a fairly good reflection of it.\n",
    "\n",
    "An example to illustrate this (as provided by the lecturer), is to consider students enrolled in a module, based on this example it seems sensible to consider each student has a grade at the end of a module and as we know from the common misconception that lecturers grade to a bell curve, is in fact due to the how phenomenon such as this tends to follow a normal distribution.\n",
    "Following on from this we can assert that there are other factors that will help to determine their grade, such as their level of education going into this module (it stands to reason that someone with a PhD will in general outperform someone who has a bachelors degree), the amount of hours a student studies is also probably effecting their grade as is perhaps whether the student is full time or part time.  "
   ]
  },
  {
   "cell_type": "markdown",
   "metadata": {},
   "source": [
    "## My Synthetic Data Idea - Adults Gender, Height, Weight and Age across the Irish Population\n",
    "\n",
    "My idea here is to simulate a dataset for adults based on their Gender, Height, Weight and age.\n",
    "\n",
    "- Gender is an easy one to start with as the population can be reasonably divided into half female and half male.\n",
    "\n",
    "- Age is another easy factor to consider as it is going to be independent of gender, height and weight as none of these will influence someones age.\n",
    "\n",
    "- Height will be exclusively influenced by their gender.\n",
    "\n",
    "- Finally weight will be influenced by all of the other factors, as someones gender, height and age will all factor into their weight.\n",
    "\n",
    "### Exploring the variables in more detail\n",
    "\n",
    "On the face of it gender appears to be an easy 50 50 chance but for the sake of accuracy and to check the veracity of that claim I took a look at the Central Statistics Office (CSO) Census data for Men and Women, handily the CSO page also includes information for their ages as well.\n",
    "[Link to CSO page on Men and Women](https://www.cso.ie/en/releasesandpublications/ep/p-cp3oy/cp3/assr/)\n",
    "\n",
    "Based on the most recent census data (from 2016) the ratio of men to women is not quite equal, there is a minor difference between the ratio of men to women between the ages 15-64 of 980 men to 1000 women. More interestingly however the ratio of men to women broadens significantly when looking at the 65+ age group with 871 men to 1000 women."
   ]
  },
  {
   "cell_type": "markdown",
   "metadata": {},
   "source": [
    "## Determining Gender and Age using 2016 Census Data\n",
    "\n",
    "As I was looking at the census data to determine how age is distributed from the ages of 18-64 and the census data is freely available to download I took a look at the dataset and have used it to determine the actual ratio of Female's to Male's  across the Irish population (as of 2016 at least), while also determining how age is distributed across the genders also.\n",
    "\n",
    "As mentioned above, this dataset was taken from the CSO https://data.cso.ie/table/EY007 (you can find the downloaded dataset in csv format in the Data folder of this repository), it contains the Census data for 2016 which gives the numbers of individuals by gender across different ages.\n"
   ]
  },
  {
   "cell_type": "code",
   "execution_count": 18,
   "metadata": {},
   "outputs": [],
   "source": [
    "cso_df = pd.read_csv('Data\\cso population 2011-2016.csv') #reading in csv file for dataset\n",
    "\n",
    "#filter down to 2016, filter out all rows containing Both Sexes and include only rows showing population \n",
    "cso_df = cso_df[(cso_df['CensusYear']==2016) & (cso_df['Sex']!='Both sexes') & (cso_df['At Each Year of Age']=='Population') ] \n",
    "\n",
    "#Convert column containing age to be numeric and assign to new column\n",
    "cso_df['Age'] = pd.to_numeric(cso_df['C02076V03371'],errors='coerce')\n",
    "\n",
    "#drop unecessary columns as there is a lot of unecessary columns and confusingly named\n",
    "cso_df = cso_df.drop(['STATISTIC', 'C02199V02655', 'Age Last Birthday', 'At Each Year of Age', 'UNIT', 'C02076V03371', 'C02786V03355', 'C02786V03355', 'TLIST(A1)', 'Statistic'], axis=1)\n",
    "\n",
    "#filter down to the age group of interest 18 to 64\n",
    "cso_df = cso_df[(cso_df['Age'] >=18) & (cso_df['Age'] <=64)].reset_index(drop=True)\n",
    "\n",
    "#subset the dataframe into a male and female set, this is done to make getting proportions of the population simpler\n",
    "cso_male_df = cso_df[cso_df['Sex']=='Male'].reset_index(drop=True)\n",
    "cso_female_df = cso_df[cso_df['Sex']=='Female'].reset_index(drop=True)"
   ]
  },
  {
   "cell_type": "code",
   "execution_count": 22,
   "metadata": {},
   "outputs": [
    {
     "name": "stdout",
     "output_type": "stream",
     "text": [
      "Total women between ages 18-64 - 1484990\n",
      "Total men between ages 18-64 -  1448806\n",
      "Total population between ages 18-64 - 2933796\n",
      "Females as percentage of population - 0.5061667546073415\n",
      "Males as percentage of population - 0.49383324539265855\n"
     ]
    }
   ],
   "source": [
    "total_female_pop = cso_female_df['VALUE'].sum()\n",
    "total_male_pop = cso_male_df['VALUE'].sum()\n",
    "total_pop = total_male_pop + total_female_pop\n",
    "female_percentage = total_female_pop/total_pop\n",
    "male_percentage = total_male_pop/total_pop\n",
    "print('Total women between ages 18-64 -', total_female_pop)\n",
    "print('Total men between ages 18-64 - ', total_male_pop)\n",
    "print('Total population between ages 18-64 -', total_pop)\n",
    "print('Females as percentage of population -', female_percentage)\n",
    "print('Males as percentage of population -', male_percentage)"
   ]
  },
  {
   "cell_type": "code",
   "execution_count": 34,
   "metadata": {},
   "outputs": [],
   "source": [
    "#Creating a dataframe that starts with single column for gender \n",
    "df = pd.DataFrame(data=rng.choice(['Female','Male'], size=500, p=[female_percentage, male_percentage]), columns=['Gender'])"
   ]
  },
  {
   "cell_type": "code",
   "execution_count": 35,
   "metadata": {},
   "outputs": [
    {
     "data": {
      "text/html": [
       "<div>\n",
       "<style scoped>\n",
       "    .dataframe tbody tr th:only-of-type {\n",
       "        vertical-align: middle;\n",
       "    }\n",
       "\n",
       "    .dataframe tbody tr th {\n",
       "        vertical-align: top;\n",
       "    }\n",
       "\n",
       "    .dataframe thead th {\n",
       "        text-align: right;\n",
       "    }\n",
       "</style>\n",
       "<table border=\"1\" class=\"dataframe\">\n",
       "  <thead>\n",
       "    <tr style=\"text-align: right;\">\n",
       "      <th></th>\n",
       "      <th>Gender</th>\n",
       "    </tr>\n",
       "  </thead>\n",
       "  <tbody>\n",
       "    <tr>\n",
       "      <th>0</th>\n",
       "      <td>Female</td>\n",
       "    </tr>\n",
       "    <tr>\n",
       "      <th>1</th>\n",
       "      <td>Female</td>\n",
       "    </tr>\n",
       "    <tr>\n",
       "      <th>2</th>\n",
       "      <td>Male</td>\n",
       "    </tr>\n",
       "    <tr>\n",
       "      <th>3</th>\n",
       "      <td>Male</td>\n",
       "    </tr>\n",
       "    <tr>\n",
       "      <th>4</th>\n",
       "      <td>Male</td>\n",
       "    </tr>\n",
       "    <tr>\n",
       "      <th>...</th>\n",
       "      <td>...</td>\n",
       "    </tr>\n",
       "    <tr>\n",
       "      <th>495</th>\n",
       "      <td>Female</td>\n",
       "    </tr>\n",
       "    <tr>\n",
       "      <th>496</th>\n",
       "      <td>Female</td>\n",
       "    </tr>\n",
       "    <tr>\n",
       "      <th>497</th>\n",
       "      <td>Male</td>\n",
       "    </tr>\n",
       "    <tr>\n",
       "      <th>498</th>\n",
       "      <td>Male</td>\n",
       "    </tr>\n",
       "    <tr>\n",
       "      <th>499</th>\n",
       "      <td>Female</td>\n",
       "    </tr>\n",
       "  </tbody>\n",
       "</table>\n",
       "<p>500 rows × 1 columns</p>\n",
       "</div>"
      ],
      "text/plain": [
       "     Gender\n",
       "0    Female\n",
       "1    Female\n",
       "2      Male\n",
       "3      Male\n",
       "4      Male\n",
       "..      ...\n",
       "495  Female\n",
       "496  Female\n",
       "497    Male\n",
       "498    Male\n",
       "499  Female\n",
       "\n",
       "[500 rows x 1 columns]"
      ]
     },
     "execution_count": 35,
     "metadata": {},
     "output_type": "execute_result"
    }
   ],
   "source": [
    "df"
   ]
  },
  {
   "cell_type": "code",
   "execution_count": 36,
   "metadata": {},
   "outputs": [],
   "source": [
    "#Get proportion of male population at different ages\n",
    "male_age_percentage_list = []\n",
    "male_age_list = []\n",
    "for i in range(len(cso_male_df)):\n",
    "    #get percentage of males at current age over total male population\n",
    "    percentage = cso_male_df['VALUE'][i]/cso_male_df['VALUE'].sum()\n",
    "    #append to list\n",
    "    male_age_percentage_list.append(percentage)\n",
    "    male_age_list.append(int(cso_male_df['Age'][i]))"
   ]
  },
  {
   "cell_type": "code",
   "execution_count": 53,
   "metadata": {},
   "outputs": [],
   "source": [
    "#Get proportion of female population at different ages\n",
    "female_age_percentage_list = []\n",
    "female_age_list = []\n",
    "female_count_list = []\n",
    "for i in range(len(cso_male_df)):\n",
    "    #get percentage of females at current age over total female population\n",
    "    percentage = cso_female_df['VALUE'][i]/cso_female_df['VALUE'].sum()\n",
    "    #append to list\n",
    "    female_count_list.append(cso_female_df['VALUE'][i])\n",
    "    female_age_percentage_list.append(percentage)\n",
    "    female_age_list.append(int(cso_female_df['Age'][i]))"
   ]
  },
  {
   "cell_type": "code",
   "execution_count": 38,
   "metadata": {},
   "outputs": [
    {
     "data": {
      "text/plain": [
       "<AxesSubplot:xlabel='Age', ylabel='VALUE'>"
      ]
     },
     "execution_count": 38,
     "metadata": {},
     "output_type": "execute_result"
    },
    {
     "data": {
      "image/png": "[encoded data removed]",
      "text/plain": [
       "<Figure size 432x288 with 1 Axes>"
      ]
     },
     "metadata": {
      "needs_background": "light"
     },
     "output_type": "display_data"
    }
   ],
   "source": [
    "import seaborn as sns\n",
    "#visualising the distribution of age by gender\n",
    "sns.scatterplot(x=cso_female_df['Age'],y=cso_female_df['VALUE'], color='b', label='female')\n",
    "sns.scatterplot(x=cso_male_df['Age'],y=cso_male_df['VALUE'], color='red', label='male')"
   ]
  },
  {
   "cell_type": "markdown",
   "metadata": {},
   "source": [
    "Now that we've determined the probabilities for the various ages across males and females, in the next cell I will use this to assign ages based on the individuals gender."
   ]
  },
  {
   "cell_type": "code",
   "execution_count": 41,
   "metadata": {},
   "outputs": [
    {
     "data": {
      "text/html": [
       "<div>\n",
       "<style scoped>\n",
       "    .dataframe tbody tr th:only-of-type {\n",
       "        vertical-align: middle;\n",
       "    }\n",
       "\n",
       "    .dataframe tbody tr th {\n",
       "        vertical-align: top;\n",
       "    }\n",
       "\n",
       "    .dataframe thead th {\n",
       "        text-align: right;\n",
       "    }\n",
       "</style>\n",
       "<table border=\"1\" class=\"dataframe\">\n",
       "  <thead>\n",
       "    <tr style=\"text-align: right;\">\n",
       "      <th></th>\n",
       "      <th>Gender</th>\n",
       "      <th>Age</th>\n",
       "    </tr>\n",
       "  </thead>\n",
       "  <tbody>\n",
       "    <tr>\n",
       "      <th>0</th>\n",
       "      <td>Female</td>\n",
       "      <td>46.0</td>\n",
       "    </tr>\n",
       "    <tr>\n",
       "      <th>1</th>\n",
       "      <td>Female</td>\n",
       "      <td>61.0</td>\n",
       "    </tr>\n",
       "    <tr>\n",
       "      <th>2</th>\n",
       "      <td>Male</td>\n",
       "      <td>22.0</td>\n",
       "    </tr>\n",
       "    <tr>\n",
       "      <th>3</th>\n",
       "      <td>Male</td>\n",
       "      <td>38.0</td>\n",
       "    </tr>\n",
       "    <tr>\n",
       "      <th>4</th>\n",
       "      <td>Male</td>\n",
       "      <td>61.0</td>\n",
       "    </tr>\n",
       "    <tr>\n",
       "      <th>...</th>\n",
       "      <td>...</td>\n",
       "      <td>...</td>\n",
       "    </tr>\n",
       "    <tr>\n",
       "      <th>495</th>\n",
       "      <td>Female</td>\n",
       "      <td>24.0</td>\n",
       "    </tr>\n",
       "    <tr>\n",
       "      <th>496</th>\n",
       "      <td>Female</td>\n",
       "      <td>58.0</td>\n",
       "    </tr>\n",
       "    <tr>\n",
       "      <th>497</th>\n",
       "      <td>Male</td>\n",
       "      <td>55.0</td>\n",
       "    </tr>\n",
       "    <tr>\n",
       "      <th>498</th>\n",
       "      <td>Male</td>\n",
       "      <td>54.0</td>\n",
       "    </tr>\n",
       "    <tr>\n",
       "      <th>499</th>\n",
       "      <td>Female</td>\n",
       "      <td>47.0</td>\n",
       "    </tr>\n",
       "  </tbody>\n",
       "</table>\n",
       "<p>500 rows × 2 columns</p>\n",
       "</div>"
      ],
      "text/plain": [
       "     Gender   Age\n",
       "0    Female  46.0\n",
       "1    Female  61.0\n",
       "2      Male  22.0\n",
       "3      Male  38.0\n",
       "4      Male  61.0\n",
       "..      ...   ...\n",
       "495  Female  24.0\n",
       "496  Female  58.0\n",
       "497    Male  55.0\n",
       "498    Male  54.0\n",
       "499  Female  47.0\n",
       "\n",
       "[500 rows x 2 columns]"
      ]
     },
     "execution_count": 41,
     "metadata": {},
     "output_type": "execute_result"
    }
   ],
   "source": [
    "for index, row in df.iterrows():\n",
    "    if(row['Gender'] == 'Female'):\n",
    "        df.at[index,'Age'] = rng.choice(female_age_list, p=female_age_percentage_list)\n",
    "    elif(row['Gender'] == 'Male'):\n",
    "        df.at[index,'Age']  = rng.choice(male_age_list, p=male_age_percentage_list)\n",
    "df"
   ]
  },
  {
   "cell_type": "code",
   "execution_count": 68,
   "metadata": {},
   "outputs": [
    {
     "name": "stdout",
     "output_type": "stream",
     "text": [
      "59873193\n",
      "40.318919992727224\n",
      "48931096302151300\n",
      "1484990\n",
      "59873193.0\n",
      "32950455048.36942\n"
     ]
    }
   ],
   "source": [
    "female_age_sum = 0\n",
    "female_age_sum_sq = 0\n",
    "for i in range(len(female_age_list)):\n",
    "    female_age_sum += female_age_list[i]*female_count_list[i]\n",
    "    female_age_sum_sq += female_age_sum**2\n",
    "    #print(female_age_list[i]*female_count_list[i])\n",
    "print(female_age_sum)\n",
    "print(female_age_sum/total_female_pop)\n",
    "mean = female_age_sum/total_female_pop\n",
    "print(female_age_sum_sq)\n",
    "print(total_female_pop)\n",
    "print(mean*total_female_pop)\n",
    "\n",
    "stdev = (female_age_sum_sq-(mean*total_female_pop))/total_female_pop\n",
    "\n",
    "pt1 = mean*total_female_pop\n",
    "pt2 = female_age_sum_sq-pt1\n",
    "print(pt2/total_female_pop)\n",
    "#print(stdev)\n",
    "\n",
    "\n"
   ]
  },
  {
   "cell_type": "code",
   "execution_count": null,
   "metadata": {},
   "outputs": [],
   "source": [
    "for i in range(len(female_age_list)):\n",
    "    female_age_sum_sq += female_age_sum**2"
   ]
  },
  {
   "cell_type": "code",
   "execution_count": 52,
   "metadata": {},
   "outputs": [
    {
     "data": {
      "text/plain": [
       "22642"
      ]
     },
     "execution_count": 52,
     "metadata": {},
     "output_type": "execute_result"
    }
   ],
   "source": [
    "female_count_list"
   ]
  },
  {
   "cell_type": "markdown",
   "metadata": {},
   "source": [
    "### Female and Male heights\n",
    "This was somewhat tricky to find, which was surprising and I could not find any figures specific to Ireland so instead I am using the information available from https://ourworldindata.org/human-height\n",
    "\n",
    "The above linked page gives several useful pieces of information for determining height\n",
    "- Height is normally distributed\n",
    "- Females have an average height of 164.7cm\n",
    "    - Std. Deviation of 7.07cm\n",
    "- Males have an average height of 178.4cm\n",
    "    - Std. Deviation of 7.59cm\n",
    "\n",
    "With the above information I can now start simulating data for adult Female and Male heights, however I would like to point out the few generalisations made at this point. The average height and std. deviations listed above are not necessarily the case for Ireland, in fact they probably aren't totally accurate, however in the absence of any truly accurate figures for Ireland these will make a sufficient approximation.\n",
    "Additionally the data presented from the link above uses a relatively young group of adults, which may further skew how the average height and std. deviation would be in reality as potentially for adults born in the 1970's their average height could be shorter than adults born in "
   ]
  },
  {
   "cell_type": "code",
   "execution_count": 3,
   "metadata": {},
   "outputs": [],
   "source": [
    "#df.loc[df['Gender'] =='Male', 'Height'] = rng.normal(loc=178.4,scale=7.07, size=10)\n",
    "for index, row in df.iterrows():\n",
    "    if(row['Gender'] == 'Female'):\n",
    "        df.at[index,'Height (cm)'] = np.round(rng.normal(loc=164.7,scale=7.59, size=1),2)\n",
    "    elif(row['Gender'] == 'Male'):\n",
    "        df.at[index,'Height (cm)']  = np.round(rng.normal(loc=178.4,scale=7.07, size=1),2)"
   ]
  },
  {
   "cell_type": "code",
   "execution_count": 4,
   "metadata": {},
   "outputs": [
    {
     "data": {
      "text/html": [
       "<div>\n",
       "<style scoped>\n",
       "    .dataframe tbody tr th:only-of-type {\n",
       "        vertical-align: middle;\n",
       "    }\n",
       "\n",
       "    .dataframe tbody tr th {\n",
       "        vertical-align: top;\n",
       "    }\n",
       "\n",
       "    .dataframe thead th {\n",
       "        text-align: right;\n",
       "    }\n",
       "</style>\n",
       "<table border=\"1\" class=\"dataframe\">\n",
       "  <thead>\n",
       "    <tr style=\"text-align: right;\">\n",
       "      <th></th>\n",
       "      <th>Height (cm)</th>\n",
       "    </tr>\n",
       "  </thead>\n",
       "  <tbody>\n",
       "    <tr>\n",
       "      <th>count</th>\n",
       "      <td>500.000000</td>\n",
       "    </tr>\n",
       "    <tr>\n",
       "      <th>mean</th>\n",
       "      <td>170.721320</td>\n",
       "    </tr>\n",
       "    <tr>\n",
       "      <th>std</th>\n",
       "      <td>10.705725</td>\n",
       "    </tr>\n",
       "    <tr>\n",
       "      <th>min</th>\n",
       "      <td>141.320000</td>\n",
       "    </tr>\n",
       "    <tr>\n",
       "      <th>25%</th>\n",
       "      <td>162.660000</td>\n",
       "    </tr>\n",
       "    <tr>\n",
       "      <th>50%</th>\n",
       "      <td>170.705000</td>\n",
       "    </tr>\n",
       "    <tr>\n",
       "      <th>75%</th>\n",
       "      <td>178.635000</td>\n",
       "    </tr>\n",
       "    <tr>\n",
       "      <th>max</th>\n",
       "      <td>197.700000</td>\n",
       "    </tr>\n",
       "  </tbody>\n",
       "</table>\n",
       "</div>"
      ],
      "text/plain": [
       "       Height (cm)\n",
       "count   500.000000\n",
       "mean    170.721320\n",
       "std      10.705725\n",
       "min     141.320000\n",
       "25%     162.660000\n",
       "50%     170.705000\n",
       "75%     178.635000\n",
       "max     197.700000"
      ]
     },
     "execution_count": 4,
     "metadata": {},
     "output_type": "execute_result"
    }
   ],
   "source": [
    "df.describe()"
   ]
  },
  {
   "cell_type": "code",
   "execution_count": 5,
   "metadata": {},
   "outputs": [
    {
     "data": {
      "text/html": [
       "<div>\n",
       "<style scoped>\n",
       "    .dataframe tbody tr th:only-of-type {\n",
       "        vertical-align: middle;\n",
       "    }\n",
       "\n",
       "    .dataframe tbody tr th {\n",
       "        vertical-align: top;\n",
       "    }\n",
       "\n",
       "    .dataframe thead th {\n",
       "        text-align: right;\n",
       "    }\n",
       "</style>\n",
       "<table border=\"1\" class=\"dataframe\">\n",
       "  <thead>\n",
       "    <tr style=\"text-align: right;\">\n",
       "      <th></th>\n",
       "      <th>Gender</th>\n",
       "      <th>Height (cm)</th>\n",
       "    </tr>\n",
       "  </thead>\n",
       "  <tbody>\n",
       "    <tr>\n",
       "      <th>0</th>\n",
       "      <td>Male</td>\n",
       "      <td>179.62</td>\n",
       "    </tr>\n",
       "    <tr>\n",
       "      <th>1</th>\n",
       "      <td>Male</td>\n",
       "      <td>175.72</td>\n",
       "    </tr>\n",
       "    <tr>\n",
       "      <th>2</th>\n",
       "      <td>Female</td>\n",
       "      <td>168.96</td>\n",
       "    </tr>\n",
       "    <tr>\n",
       "      <th>3</th>\n",
       "      <td>Male</td>\n",
       "      <td>163.30</td>\n",
       "    </tr>\n",
       "    <tr>\n",
       "      <th>4</th>\n",
       "      <td>Female</td>\n",
       "      <td>166.46</td>\n",
       "    </tr>\n",
       "    <tr>\n",
       "      <th>...</th>\n",
       "      <td>...</td>\n",
       "      <td>...</td>\n",
       "    </tr>\n",
       "    <tr>\n",
       "      <th>495</th>\n",
       "      <td>Male</td>\n",
       "      <td>193.92</td>\n",
       "    </tr>\n",
       "    <tr>\n",
       "      <th>496</th>\n",
       "      <td>Male</td>\n",
       "      <td>185.13</td>\n",
       "    </tr>\n",
       "    <tr>\n",
       "      <th>497</th>\n",
       "      <td>Female</td>\n",
       "      <td>169.08</td>\n",
       "    </tr>\n",
       "    <tr>\n",
       "      <th>498</th>\n",
       "      <td>Male</td>\n",
       "      <td>175.89</td>\n",
       "    </tr>\n",
       "    <tr>\n",
       "      <th>499</th>\n",
       "      <td>Male</td>\n",
       "      <td>176.89</td>\n",
       "    </tr>\n",
       "  </tbody>\n",
       "</table>\n",
       "<p>500 rows × 2 columns</p>\n",
       "</div>"
      ],
      "text/plain": [
       "     Gender  Height (cm)\n",
       "0      Male       179.62\n",
       "1      Male       175.72\n",
       "2    Female       168.96\n",
       "3      Male       163.30\n",
       "4    Female       166.46\n",
       "..      ...          ...\n",
       "495    Male       193.92\n",
       "496    Male       185.13\n",
       "497  Female       169.08\n",
       "498    Male       175.89\n",
       "499    Male       176.89\n",
       "\n",
       "[500 rows x 2 columns]"
      ]
     },
     "execution_count": 5,
     "metadata": {},
     "output_type": "execute_result"
    }
   ],
   "source": [
    "df"
   ]
  },
  {
   "cell_type": "code",
   "execution_count": 217,
   "metadata": {},
   "outputs": [
    {
     "data": {
      "text/html": [
       "<div>\n",
       "<style scoped>\n",
       "    .dataframe tbody tr th:only-of-type {\n",
       "        vertical-align: middle;\n",
       "    }\n",
       "\n",
       "    .dataframe tbody tr th {\n",
       "        vertical-align: top;\n",
       "    }\n",
       "\n",
       "    .dataframe thead th {\n",
       "        text-align: right;\n",
       "    }\n",
       "</style>\n",
       "<table border=\"1\" class=\"dataframe\">\n",
       "  <thead>\n",
       "    <tr style=\"text-align: right;\">\n",
       "      <th></th>\n",
       "      <th>Gender</th>\n",
       "      <th>Height (cm)</th>\n",
       "      <th>Age</th>\n",
       "      <th>Weight Category</th>\n",
       "      <th>Weight (KG)</th>\n",
       "    </tr>\n",
       "  </thead>\n",
       "  <tbody>\n",
       "    <tr>\n",
       "      <th>0</th>\n",
       "      <td>Male</td>\n",
       "      <td>179.62</td>\n",
       "      <td>31.0</td>\n",
       "      <td>Over Weight</td>\n",
       "      <td>101.818</td>\n",
       "    </tr>\n",
       "    <tr>\n",
       "      <th>1</th>\n",
       "      <td>Male</td>\n",
       "      <td>175.72</td>\n",
       "      <td>20.0</td>\n",
       "      <td>Over Weight</td>\n",
       "      <td>82.755</td>\n",
       "    </tr>\n",
       "    <tr>\n",
       "      <th>2</th>\n",
       "      <td>Female</td>\n",
       "      <td>168.96</td>\n",
       "      <td>45.0</td>\n",
       "      <td>Healthy Weight</td>\n",
       "      <td>67.109</td>\n",
       "    </tr>\n",
       "    <tr>\n",
       "      <th>3</th>\n",
       "      <td>Male</td>\n",
       "      <td>163.30</td>\n",
       "      <td>45.0</td>\n",
       "      <td>Over Weight</td>\n",
       "      <td>90.773</td>\n",
       "    </tr>\n",
       "    <tr>\n",
       "      <th>4</th>\n",
       "      <td>Female</td>\n",
       "      <td>166.46</td>\n",
       "      <td>64.0</td>\n",
       "      <td>Over Weight</td>\n",
       "      <td>80.634</td>\n",
       "    </tr>\n",
       "    <tr>\n",
       "      <th>...</th>\n",
       "      <td>...</td>\n",
       "      <td>...</td>\n",
       "      <td>...</td>\n",
       "      <td>...</td>\n",
       "      <td>...</td>\n",
       "    </tr>\n",
       "    <tr>\n",
       "      <th>495</th>\n",
       "      <td>Male</td>\n",
       "      <td>193.92</td>\n",
       "      <td>30.0</td>\n",
       "      <td>Over Weight</td>\n",
       "      <td>116.484</td>\n",
       "    </tr>\n",
       "    <tr>\n",
       "      <th>496</th>\n",
       "      <td>Male</td>\n",
       "      <td>185.13</td>\n",
       "      <td>20.0</td>\n",
       "      <td>Healthy Weight</td>\n",
       "      <td>79.496</td>\n",
       "    </tr>\n",
       "    <tr>\n",
       "      <th>497</th>\n",
       "      <td>Female</td>\n",
       "      <td>169.08</td>\n",
       "      <td>44.0</td>\n",
       "      <td>Healthy Weight</td>\n",
       "      <td>64.607</td>\n",
       "    </tr>\n",
       "    <tr>\n",
       "      <th>498</th>\n",
       "      <td>Male</td>\n",
       "      <td>175.89</td>\n",
       "      <td>43.0</td>\n",
       "      <td>Healthy Weight</td>\n",
       "      <td>66.388</td>\n",
       "    </tr>\n",
       "    <tr>\n",
       "      <th>499</th>\n",
       "      <td>Male</td>\n",
       "      <td>176.89</td>\n",
       "      <td>38.0</td>\n",
       "      <td>Over Weight</td>\n",
       "      <td>92.145</td>\n",
       "    </tr>\n",
       "  </tbody>\n",
       "</table>\n",
       "<p>500 rows × 5 columns</p>\n",
       "</div>"
      ],
      "text/plain": [
       "     Gender  Height (cm)   Age Weight Category  Weight (KG)\n",
       "0      Male       179.62  31.0     Over Weight      101.818\n",
       "1      Male       175.72  20.0     Over Weight       82.755\n",
       "2    Female       168.96  45.0  Healthy Weight       67.109\n",
       "3      Male       163.30  45.0     Over Weight       90.773\n",
       "4    Female       166.46  64.0     Over Weight       80.634\n",
       "..      ...          ...   ...             ...          ...\n",
       "495    Male       193.92  30.0     Over Weight      116.484\n",
       "496    Male       185.13  20.0  Healthy Weight       79.496\n",
       "497  Female       169.08  44.0  Healthy Weight       64.607\n",
       "498    Male       175.89  43.0  Healthy Weight       66.388\n",
       "499    Male       176.89  38.0     Over Weight       92.145\n",
       "\n",
       "[500 rows x 5 columns]"
      ]
     },
     "execution_count": 217,
     "metadata": {},
     "output_type": "execute_result"
    }
   ],
   "source": [
    "df"
   ]
  },
  {
   "cell_type": "markdown",
   "metadata": {},
   "source": [
    "## Determining Weight using Gender\n",
    "From the CSO website https://www.cso.ie/en/releasesandpublications/ep/p-wamii/womenandmeninireland2016/health/#d.en.142587 I was able see what the percentage of adult Females and Males are that are overweight, unfortunately I wasn't able to find a reliable figure for average weight or standard deviation, or how weight is generally distributed across the population.\n",
    "\n",
    "Males overweight - 63.1%\n",
    "\n",
    "Females overweight - 48.4%\n",
    "\n",
    "Knowing the percentage of women and men that are overweight I am going to use this to information to determine for a given individual whether or not they are overweight.\n",
    "\n",
    "Once it is determined whether or not they are overweight or a healthy weight (ignoring here the possibility of being severely underweight) I will estimate a value for the weight they are taking into account their height as the criteria for someone being overweight is proportional to their height (e.g. for two different individuals at the same weight one may be overweight and the other not if their weight differs significantly).\n",
    "\n",
    "Whether someone is overweight or not is determined by their BMI and from the CSO page linked above, they cite a BMI between 25 and 30 as being pre-obese and anything greater than 30 as obese.\n",
    "BMI is calculated using the formula:\n",
    "\\begin{align}\n",
    "\\ BMI & = \\frac{m}{h^{2}} \\\\\n",
    "\\end{align}\n",
    "\n",
    "Where m is mass (or Weight) in kg and h is height in cm."
   ]
  },
  {
   "cell_type": "code",
   "execution_count": 211,
   "metadata": {},
   "outputs": [],
   "source": [
    "for index, row in df.iterrows(): #loop through each row in dataframe\n",
    "    if(row['Gender'] == 'Female'): #if row is gender then there is a 48.4% chance they are over weight\n",
    "        df.at[index,'Weight Category'] = rng.choice(['Healthy Weight', 'Over Weight'], p=[.516,.484])\n",
    "        if(df.at[index,'Weight Category'] =='Over Weight'): #depending on whether this person was over or healthy weight\n",
    "            bmi_lower = 25\n",
    "            bmi_upper = 35\n",
    "        elif(df.at[index,'Weight Category'] =='Healthy Weight'):\n",
    "            bmi_upper = 25\n",
    "            bmi_lower = 18.5\n",
    "    elif(row['Gender'] == 'Male'):\n",
    "        df.at[index,'Weight Category'] = rng.choice(['Healthy Weight', 'Over Weight'], p=[.369,.631])\n",
    "        if(df.at[index,'Weight Category'] =='Over Weight'):\n",
    "            bmi_lower = 25\n",
    "            bmi_upper = 35\n",
    "        elif(df.at[index,'Weight Category'] =='Healthy Weight'):\n",
    "            bmi_upper = 25\n",
    "            bmi_lower = 18.5\n",
    "    bmi = rng.uniform(bmi_lower,bmi_upper)\n",
    "    height = df.at[index,'Height (cm)']/100\n",
    "    weight = bmi*(height**2)\n",
    "    df.at[index, 'Weight (KG)'] = np.round(weight, 3)"
   ]
  },
  {
   "cell_type": "code",
   "execution_count": 212,
   "metadata": {},
   "outputs": [
    {
     "data": {
      "text/plain": [
       "6.918698590274988"
      ]
     },
     "execution_count": 212,
     "metadata": {},
     "output_type": "execute_result"
    }
   ],
   "source": [
    "rng.uniform(1,10)"
   ]
  },
  {
   "cell_type": "code",
   "execution_count": 213,
   "metadata": {},
   "outputs": [
    {
     "data": {
      "text/html": [
       "<div>\n",
       "<style scoped>\n",
       "    .dataframe tbody tr th:only-of-type {\n",
       "        vertical-align: middle;\n",
       "    }\n",
       "\n",
       "    .dataframe tbody tr th {\n",
       "        vertical-align: top;\n",
       "    }\n",
       "\n",
       "    .dataframe thead th {\n",
       "        text-align: right;\n",
       "    }\n",
       "</style>\n",
       "<table border=\"1\" class=\"dataframe\">\n",
       "  <thead>\n",
       "    <tr style=\"text-align: right;\">\n",
       "      <th></th>\n",
       "      <th>Gender</th>\n",
       "      <th>Height (cm)</th>\n",
       "      <th>Age</th>\n",
       "      <th>Weight Category</th>\n",
       "      <th>Weight (KG)</th>\n",
       "    </tr>\n",
       "  </thead>\n",
       "  <tbody>\n",
       "    <tr>\n",
       "      <th>0</th>\n",
       "      <td>Male</td>\n",
       "      <td>179.62</td>\n",
       "      <td>31.0</td>\n",
       "      <td>Healthy Weight</td>\n",
       "      <td>70.575</td>\n",
       "    </tr>\n",
       "    <tr>\n",
       "      <th>1</th>\n",
       "      <td>Male</td>\n",
       "      <td>175.72</td>\n",
       "      <td>20.0</td>\n",
       "      <td>Healthy Weight</td>\n",
       "      <td>57.226</td>\n",
       "    </tr>\n",
       "    <tr>\n",
       "      <th>2</th>\n",
       "      <td>Female</td>\n",
       "      <td>168.96</td>\n",
       "      <td>45.0</td>\n",
       "      <td>Over Weight</td>\n",
       "      <td>97.366</td>\n",
       "    </tr>\n",
       "    <tr>\n",
       "      <th>3</th>\n",
       "      <td>Male</td>\n",
       "      <td>163.30</td>\n",
       "      <td>45.0</td>\n",
       "      <td>Healthy Weight</td>\n",
       "      <td>60.756</td>\n",
       "    </tr>\n",
       "    <tr>\n",
       "      <th>4</th>\n",
       "      <td>Female</td>\n",
       "      <td>166.46</td>\n",
       "      <td>64.0</td>\n",
       "      <td>Healthy Weight</td>\n",
       "      <td>61.747</td>\n",
       "    </tr>\n",
       "    <tr>\n",
       "      <th>...</th>\n",
       "      <td>...</td>\n",
       "      <td>...</td>\n",
       "      <td>...</td>\n",
       "      <td>...</td>\n",
       "      <td>...</td>\n",
       "    </tr>\n",
       "    <tr>\n",
       "      <th>495</th>\n",
       "      <td>Male</td>\n",
       "      <td>193.92</td>\n",
       "      <td>30.0</td>\n",
       "      <td>Over Weight</td>\n",
       "      <td>121.674</td>\n",
       "    </tr>\n",
       "    <tr>\n",
       "      <th>496</th>\n",
       "      <td>Male</td>\n",
       "      <td>185.13</td>\n",
       "      <td>20.0</td>\n",
       "      <td>Over Weight</td>\n",
       "      <td>96.152</td>\n",
       "    </tr>\n",
       "    <tr>\n",
       "      <th>497</th>\n",
       "      <td>Female</td>\n",
       "      <td>169.08</td>\n",
       "      <td>44.0</td>\n",
       "      <td>Healthy Weight</td>\n",
       "      <td>64.840</td>\n",
       "    </tr>\n",
       "    <tr>\n",
       "      <th>498</th>\n",
       "      <td>Male</td>\n",
       "      <td>175.89</td>\n",
       "      <td>43.0</td>\n",
       "      <td>Healthy Weight</td>\n",
       "      <td>71.219</td>\n",
       "    </tr>\n",
       "    <tr>\n",
       "      <th>499</th>\n",
       "      <td>Male</td>\n",
       "      <td>176.89</td>\n",
       "      <td>38.0</td>\n",
       "      <td>Healthy Weight</td>\n",
       "      <td>64.851</td>\n",
       "    </tr>\n",
       "  </tbody>\n",
       "</table>\n",
       "<p>500 rows × 5 columns</p>\n",
       "</div>"
      ],
      "text/plain": [
       "     Gender  Height (cm)   Age Weight Category  Weight (KG)\n",
       "0      Male       179.62  31.0  Healthy Weight       70.575\n",
       "1      Male       175.72  20.0  Healthy Weight       57.226\n",
       "2    Female       168.96  45.0     Over Weight       97.366\n",
       "3      Male       163.30  45.0  Healthy Weight       60.756\n",
       "4    Female       166.46  64.0  Healthy Weight       61.747\n",
       "..      ...          ...   ...             ...          ...\n",
       "495    Male       193.92  30.0     Over Weight      121.674\n",
       "496    Male       185.13  20.0     Over Weight       96.152\n",
       "497  Female       169.08  44.0  Healthy Weight       64.840\n",
       "498    Male       175.89  43.0  Healthy Weight       71.219\n",
       "499    Male       176.89  38.0  Healthy Weight       64.851\n",
       "\n",
       "[500 rows x 5 columns]"
      ]
     },
     "execution_count": 213,
     "metadata": {},
     "output_type": "execute_result"
    }
   ],
   "source": [
    "df"
   ]
  },
  {
   "cell_type": "code",
   "execution_count": 214,
   "metadata": {},
   "outputs": [
    {
     "data": {
      "image/png": "[encoded data removed]",
      "text/plain": [
       "<Figure size 432x288 with 1 Axes>"
      ]
     },
     "metadata": {
      "needs_background": "light"
     },
     "output_type": "display_data"
    }
   ],
   "source": [
    "import seaborn as sns\n",
    "sns.scatterplot( x='Weight (KG)', y='Height (cm)', data=df, hue='Gender', style='Weight Category');"
   ]
  },
  {
   "cell_type": "markdown",
   "metadata": {},
   "source": [
    "### Instead of bmi being uniformly distributed what if it is infact normally distributed\n",
    "I want to see what the difference will be if instead of bmi's for over weight and healthy weight being normally distributed, I thought that perhaps in reality they are centered around the median bmi and normally distributed, which is to say that a healthy weight person is more likely to be reliably far away from being under weight or over weight and similarly for an over weight individual.\n",
    "\n",
    "To explain what I mean, I believe that a person who is either in the over weight or healthy weight categories to be more likely to the median value than edge cases, to capture this I am going to produce normal distributions with 2 standard deviations being the distance from median to upper or lower limits of bmi.\n",
    "\n",
    "So a over weight bmi would have median of 30, with standard deviation of 2.5.\n",
    "Healthy weight bmi has a median of 21.75 with a standard deviation of 1.625.\n",
    "\n",
    "However by using 2 standard deviations to get from the median to the upper and lower limits does mean that in some rare cases (e.g. around 4 percent of the time) it will exceed the limits, to account for this I will add an if statement to check for this and to set the bmi in those cases to the nearest bmi limit."
   ]
  },
  {
   "cell_type": "code",
   "execution_count": 215,
   "metadata": {},
   "outputs": [],
   "source": [
    "for index, row in df.iterrows(): #loop through each row in dataframe\n",
    "    if(row['Gender'] == 'Female'): #if row is gender then there is a 48.4% chance they are over weight\n",
    "        df.at[index,'Weight Category'] = rng.choice(['Healthy Weight', 'Over Weight'], p=[.516,.484])\n",
    "        if(df.at[index,'Weight Category'] =='Over Weight'): #depending on whether this person was over or healthy weight\n",
    "            bmi = rng.normal(30,2.5)\n",
    "            if (bmi<25): bmi = 25\n",
    "            if (bmi>35): bmi = 35\n",
    "        elif(df.at[index,'Weight Category'] =='Healthy Weight'):\n",
    "            bmi = rng.normal(21.75,1.625)\n",
    "            if (bmi<18.5): bmi = 18.5\n",
    "            if (bmi>25): bmi = 25\n",
    "    elif(row['Gender'] == 'Male'):\n",
    "        df.at[index,'Weight Category'] = rng.choice(['Healthy Weight', 'Over Weight'], p=[.369,.631])\n",
    "        if(df.at[index,'Weight Category'] =='Over Weight'):\n",
    "            bmi = rng.normal(30,2.5)\n",
    "            if (bmi<25): bmi = 25\n",
    "            if (bmi>35): bmi = 35\n",
    "        elif(df.at[index,'Weight Category'] =='Healthy Weight'):\n",
    "            bmi = rng.normal(21.75,1.625)\n",
    "            if (bmi<18.5): bmi = 18.5\n",
    "            if (bmi>25): bmi = 25\n",
    "    #bmi = rng.uniform(bmi_lower,bmi_upper)\n",
    "    height = df.at[index,'Height (cm)']/100\n",
    "    weight = bmi*(height**2)\n",
    "    df.at[index, 'Weight (KG)'] = np.round(weight, 3)"
   ]
  },
  {
   "cell_type": "code",
   "execution_count": 216,
   "metadata": {},
   "outputs": [
    {
     "data": {
      "image/png": "[encoded data removed]",
      "text/plain": [
       "<Figure size 432x288 with 1 Axes>"
      ]
     },
     "metadata": {
      "needs_background": "light"
     },
     "output_type": "display_data"
    }
   ],
   "source": [
    "sns.scatterplot( x='Weight (KG)', y='Height (cm)', data=df, hue='Gender', style='Weight Category');"
   ]
  },
  {
   "cell_type": "code",
   "execution_count": null,
   "metadata": {},
   "outputs": [],
   "source": []
  }
 ],
 "metadata": {
  "kernelspec": {
   "display_name": "Python 3",
   "language": "python",
   "name": "python3"
  },
  "language_info": {
   "codemirror_mode": {
    "name": "ipython",
    "version": 3
   },
   "file_extension": ".py",
   "mimetype": "text/x-python",
   "name": "python",
   "nbconvert_exporter": "python",
   "pygments_lexer": "ipython3",
   "version": "3.8.5"
  }
 },
 "nbformat": 4,
 "nbformat_minor": 4
}
