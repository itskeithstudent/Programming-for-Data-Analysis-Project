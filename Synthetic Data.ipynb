{
 "cells": [
  {
   "cell_type": "markdown",
   "metadata": {},
   "source": [
    "# Programming for Data Analysis Project\n",
    "For this project I will be synthesizing a dataset, to do so I will be using various functions of the numpy.random package to create interpretations of real world phenomenon.\n",
    "\n",
    "An example to illustrate this (as provided by the lecturer), is to consider students enrolled in a module, based on this example it seems sensible to consider each student has a grade at the end of a module and as we know from the common misconception that lecturers grade to a bell curve, is in fact due to the how phenomenon such as this tends to follow a normal distribution.\n",
    "Following on from this we can assert that there are other factors that will help to determine their grade, such as their level of education going into this module (it stands to reason that someone with a PhD will in general outperform someone who has a bachelors degree), the amount of hours a student studies is also probably effecting their grade as is perhaps whether the student is full time or part time.  \n",
    "\n",
    "Because I lack creativity I am going to start with this example and work through it in the hopes it gives me some experience in synthesizing data and maybe sparks my own idea in the process.\n",
    "\n",
    "Additionally at this point I don't want to devote too much time to research the data in question, instead I want to play around with how to generate the data, so I will be making some assumptions which I will call out in comments or markdown text as appropriate."
   ]
  },
  {
   "cell_type": "code",
   "execution_count": 7,
   "metadata": {},
   "outputs": [],
   "source": [
    "import numpy as np\n",
    "import pandas as pd\n",
    "\n",
    "rng = np.random.default_rng(1)\n",
    "\n",
    "qualification = ['PhD', 'Masters', 'Bachelors', 'None'] #categories for the various students\n",
    "qualification_prob = [0.2, 0.3, 0.4, 0.1] #I assume probabilities for these are that secondary is least likely and Bachelors most\n",
    "grades = ['A1', 'A2', 'B1', 'B2', 'C1', 'C2', 'D1', 'D2', 'F'] #setting up a list to determine possible grades\n",
    "\n",
    "num_students = 200\n",
    "\n",
    "qual_array = rng.choice(a=qualification, p=qualification_prob, size = 200) #picking from the list of qualifications using the previously defined probabilities\n",
    "df = pd.DataFrame(columns=['Qualification'], data=qual_array) #using the nunmpy array tocreate the first column for the data table"
   ]
  },
  {
   "cell_type": "code",
   "execution_count": 8,
   "metadata": {},
   "outputs": [
    {
     "data": {
      "text/html": [
       "<div>\n",
       "<style scoped>\n",
       "    .dataframe tbody tr th:only-of-type {\n",
       "        vertical-align: middle;\n",
       "    }\n",
       "\n",
       "    .dataframe tbody tr th {\n",
       "        vertical-align: top;\n",
       "    }\n",
       "\n",
       "    .dataframe thead th {\n",
       "        text-align: right;\n",
       "    }\n",
       "</style>\n",
       "<table border=\"1\" class=\"dataframe\">\n",
       "  <thead>\n",
       "    <tr style=\"text-align: right;\">\n",
       "      <th></th>\n",
       "      <th>Qualification</th>\n",
       "      <th>Hours per week study</th>\n",
       "    </tr>\n",
       "  </thead>\n",
       "  <tbody>\n",
       "    <tr>\n",
       "      <th>0</th>\n",
       "      <td>Bachelors</td>\n",
       "      <td>6.219276</td>\n",
       "    </tr>\n",
       "    <tr>\n",
       "      <th>1</th>\n",
       "      <td>None</td>\n",
       "      <td>4.336212</td>\n",
       "    </tr>\n",
       "    <tr>\n",
       "      <th>2</th>\n",
       "      <td>PhD</td>\n",
       "      <td>5.096811</td>\n",
       "    </tr>\n",
       "    <tr>\n",
       "      <th>3</th>\n",
       "      <td>None</td>\n",
       "      <td>1.869751</td>\n",
       "    </tr>\n",
       "    <tr>\n",
       "      <th>4</th>\n",
       "      <td>Masters</td>\n",
       "      <td>7.656860</td>\n",
       "    </tr>\n",
       "  </tbody>\n",
       "</table>\n",
       "</div>"
      ],
      "text/plain": [
       "  Qualification  Hours per week study\n",
       "0     Bachelors              6.219276\n",
       "1          None              4.336212\n",
       "2           PhD              5.096811\n",
       "3          None              1.869751\n",
       "4       Masters              7.656860"
      ]
     },
     "execution_count": 8,
     "metadata": {},
     "output_type": "execute_result"
    }
   ],
   "source": [
    "Hours = rng.normal(loc=4, scale=2,size=200) #taking what Brian said in project pdf, hours per week students are typically centered aroudn a mean of 4 with standard deviation of a quarter and normal distribution is acceptable here\n",
    "df['Hours per week study'] = Hours #Now I have two columns in my dataframe, qualification and hours per week study\n",
    "df.head()"
   ]
  },
  {
   "cell_type": "code",
   "execution_count": null,
   "metadata": {},
   "outputs": [],
   "source": []
  },
  {
   "cell_type": "markdown",
   "metadata": {},
   "source": [
    "## My Simulated Data Idea - An Adults Gender, Height, Weight and Age\n",
    "\n",
    "My idea here is to simulate a dataset for adults based on their Gender, Height, Weight and age.\n",
    "\n",
    "- Gender is an easy one to start with as the population can be reasonably divided into half female and half male.\n",
    "\n",
    "- Age is another easy factor to consider as it is going to be independent of gender, height and weight as none of these will influence someones age.\n",
    "\n",
    "- Height will be exclusively influenced by their gender.\n",
    "\n",
    "- Finally weight will be influenced by all of the other factors, as someones gender, height and age will all factor into their weight.\n",
    "\n",
    "### Exploring the variables in more detail\n",
    "\n",
    "On the face of it gender appears to be an easy 50 50 chance but for the sake of accuracy and to check the veracity of that claim I took a look at the Central Statistics Office (CSO) Census data for Men and Women, handily the CSO page also includes information for their ages as well.\n",
    "[Link to CSO page on Men and Women](https://www.cso.ie/en/releasesandpublications/ep/p-cp3oy/cp3/assr/)\n",
    "\n",
    "Based on the most recent census data (from 2016) the ratio of men to women is not quite equal, there is a minor difference between the ratio of men to women between the ages 15-64 of 980 men to 1000 women. More interestingly however the ratio of men to women broadens significantly when looking at the 65+ age group with 871 men to 1000 women.\n",
    "To start with I will just work with the 15-64 age group."
   ]
  },
  {
   "cell_type": "code",
   "execution_count": 60,
   "metadata": {},
   "outputs": [
    {
     "name": "stdout",
     "output_type": "stream",
     "text": [
      "Probability an adult between 15 to 64 years of age is male: 0.495\n",
      "Probability an adult between 15 to 64 years of age is female: 0.505\n"
     ]
    }
   ],
   "source": [
    "#Ratio of men to women for 2016 980 men to 1000 women\n",
    "p_male_15to64 = round(980/1980, 3) #get the probabilty of being male given age is between 15-64, round to 3 decimal places\n",
    "p_female_15to64 = 1-p_male_15to64\n",
    "print('Probability an adult between 15 to 64 years of age is male:',p_male_15to64)\n",
    "print('Probability an adult between 15 to 64 years of age is female:',p_female_15to64)"
   ]
  },
  {
   "cell_type": "code",
   "execution_count": 61,
   "metadata": {},
   "outputs": [],
   "source": [
    "df = pd.DataFrame(data=rng.choice(['Female','Male'], size=1000, p=[p_female_15to64,p_male_15to64]), columns=['Gender'])"
   ]
  },
  {
   "cell_type": "markdown",
   "metadata": {},
   "source": [
    "### Female and Male heights\n",
    "This was somewhat tricky to find, which was surprising and I could not find any figures specific to Ireland so instead I am using the information available from https://ourworldindata.org/human-height\n",
    "\n",
    "The above linked page gives several useful pieces of information for determining height\n",
    "- Height is normally distributed\n",
    "- Females have an average height of 164.7cm\n",
    "    - Std. Deviation of 7.07cm\n",
    "- Males have an average height of 178.4cm\n",
    "    - Std. Deviation of 7.59cm\n",
    "\n",
    "With the above information I can now start simulating data for adult Female and Male heights, however I would like to point out the few generalisations made at this point. The average height and std. deviations listed above are not necessarily the case for Ireland, in fact they probably aren't totally accurate, however in the absence of any truly accurate figures for Ireland these will make a sufficient approximation.\n",
    "Additionally the data presented from the link above uses a relatively young group of adults, which may further skew how the average height and std. deviation would be in reality as potentially for adults born in the 1970's their average height could be shorter than adults born in "
   ]
  },
  {
   "cell_type": "code",
   "execution_count": 69,
   "metadata": {},
   "outputs": [],
   "source": [
    "#df.loc[df['Gender'] =='Male', 'Height'] = rng.normal(loc=178.4,scale=7.07, size=10)\n",
    "for index, row in df.iterrows():\n",
    "    if(row['Gender'] == 'Female'):\n",
    "        df.at[index,'Height'] = rng.normal(loc=164.7,scale=7.59, size=1)\n",
    "    elif(row['Gender'] == 'Male'):\n",
    "        df.at[index,'Height']  = rng.normal(loc=178.4,scale=7.07, size=1)"
   ]
  },
  {
   "cell_type": "code",
   "execution_count": 72,
   "metadata": {},
   "outputs": [
    {
     "data": {
      "text/html": [
       "<div>\n",
       "<style scoped>\n",
       "    .dataframe tbody tr th:only-of-type {\n",
       "        vertical-align: middle;\n",
       "    }\n",
       "\n",
       "    .dataframe tbody tr th {\n",
       "        vertical-align: top;\n",
       "    }\n",
       "\n",
       "    .dataframe thead th {\n",
       "        text-align: right;\n",
       "    }\n",
       "</style>\n",
       "<table border=\"1\" class=\"dataframe\">\n",
       "  <thead>\n",
       "    <tr style=\"text-align: right;\">\n",
       "      <th></th>\n",
       "      <th>Height</th>\n",
       "    </tr>\n",
       "  </thead>\n",
       "  <tbody>\n",
       "    <tr>\n",
       "      <th>count</th>\n",
       "      <td>1000.000000</td>\n",
       "    </tr>\n",
       "    <tr>\n",
       "      <th>mean</th>\n",
       "      <td>171.652302</td>\n",
       "    </tr>\n",
       "    <tr>\n",
       "      <th>std</th>\n",
       "      <td>9.715568</td>\n",
       "    </tr>\n",
       "    <tr>\n",
       "      <th>min</th>\n",
       "      <td>144.875613</td>\n",
       "    </tr>\n",
       "    <tr>\n",
       "      <th>25%</th>\n",
       "      <td>164.543693</td>\n",
       "    </tr>\n",
       "    <tr>\n",
       "      <th>50%</th>\n",
       "      <td>172.091147</td>\n",
       "    </tr>\n",
       "    <tr>\n",
       "      <th>75%</th>\n",
       "      <td>178.718054</td>\n",
       "    </tr>\n",
       "    <tr>\n",
       "      <th>max</th>\n",
       "      <td>195.675357</td>\n",
       "    </tr>\n",
       "  </tbody>\n",
       "</table>\n",
       "</div>"
      ],
      "text/plain": [
       "            Height\n",
       "count  1000.000000\n",
       "mean    171.652302\n",
       "std       9.715568\n",
       "min     144.875613\n",
       "25%     164.543693\n",
       "50%     172.091147\n",
       "75%     178.718054\n",
       "max     195.675357"
      ]
     },
     "execution_count": 72,
     "metadata": {},
     "output_type": "execute_result"
    }
   ],
   "source": [
    "df.describe()"
   ]
  },
  {
   "cell_type": "code",
   "execution_count": null,
   "metadata": {},
   "outputs": [],
   "source": []
  }
 ],
 "metadata": {
  "kernelspec": {
   "display_name": "Python 3",
   "language": "python",
   "name": "python3"
  },
  "language_info": {
   "codemirror_mode": {
    "name": "ipython",
    "version": 3
   },
   "file_extension": ".py",
   "mimetype": "text/x-python",
   "name": "python",
   "nbconvert_exporter": "python",
   "pygments_lexer": "ipython3",
   "version": "3.8.5"
  }
 },
 "nbformat": 4,
 "nbformat_minor": 4
}
