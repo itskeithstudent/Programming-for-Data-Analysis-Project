{
 "cells": [
  {
   "cell_type": "markdown",
   "metadata": {},
   "source": [
    "# Programming for Data Analysis Project\n",
    "For this project I will be synthesizing a dataset, to do so I will be using various functions of the numpy.random package to create interpretations of real world phenomenon.\n",
    "\n",
    "An example to illustrate this (as provided by the lecturer), is to consider students enrolled in a module, based on this example it seems sensible to consider each student has a grade at the end of a module and as we know from the common misconception that lecturers grade to a bell curve, is in fact due to the how phenomenon such as this tends to follow a normal distribution.\n",
    "Following on from this we can assert that there are other factors that will help to determine their grade, such as their level of education going into this module (it stands to reason that someone with a PhD will in general outperform someone who has a bachelors degree), the amount of hours a student studies is also probably effecting their grade as is perhaps whether the student is full time or part time.  \n",
    "\n",
    "Because I lack creativity I am going to start with this example and work through it in the hopes it gives me some experience in synthesizing data and maybe sparks my own idea in the process.\n",
    "\n",
    "Additionally at this point I don't want to devote too much time to research the data in question, instead I want to play around with how to generate the data, so I will be making some assumptions which I will call out in comments or markdown text as appropriate."
   ]
  },
  {
   "cell_type": "code",
   "execution_count": 7,
   "metadata": {},
   "outputs": [],
   "source": [
    "import numpy as np\n",
    "import pandas as pd\n",
    "\n",
    "rng = np.random.default_rng(1)\n",
    "\n",
    "qualification = ['PhD', 'Masters', 'Bachelors', 'None'] #categories for the various students\n",
    "qualification_prob = [0.2, 0.3, 0.4, 0.1] #I assume probabilities for these are that secondary is least likely and Bachelors most\n",
    "grades = ['A1', 'A2', 'B1', 'B2', 'C1', 'C2', 'D1', 'D2', 'F'] #setting up a list to determine possible grades\n",
    "\n",
    "num_students = 200\n",
    "\n",
    "qual_array = rng.choice(a=qualification, p=qualification_prob, size = 200) #picking from the list of qualifications using the previously defined probabilities\n",
    "df = pd.DataFrame(columns=['Qualification'], data=qual_array) #using the nunmpy array tocreate the first column for the data table"
   ]
  },
  {
   "cell_type": "code",
   "execution_count": 8,
   "metadata": {},
   "outputs": [
    {
     "data": {
      "text/html": [
       "<div>\n",
       "<style scoped>\n",
       "    .dataframe tbody tr th:only-of-type {\n",
       "        vertical-align: middle;\n",
       "    }\n",
       "\n",
       "    .dataframe tbody tr th {\n",
       "        vertical-align: top;\n",
       "    }\n",
       "\n",
       "    .dataframe thead th {\n",
       "        text-align: right;\n",
       "    }\n",
       "</style>\n",
       "<table border=\"1\" class=\"dataframe\">\n",
       "  <thead>\n",
       "    <tr style=\"text-align: right;\">\n",
       "      <th></th>\n",
       "      <th>Qualification</th>\n",
       "      <th>Hours per week study</th>\n",
       "    </tr>\n",
       "  </thead>\n",
       "  <tbody>\n",
       "    <tr>\n",
       "      <th>0</th>\n",
       "      <td>Bachelors</td>\n",
       "      <td>6.219276</td>\n",
       "    </tr>\n",
       "    <tr>\n",
       "      <th>1</th>\n",
       "      <td>None</td>\n",
       "      <td>4.336212</td>\n",
       "    </tr>\n",
       "    <tr>\n",
       "      <th>2</th>\n",
       "      <td>PhD</td>\n",
       "      <td>5.096811</td>\n",
       "    </tr>\n",
       "    <tr>\n",
       "      <th>3</th>\n",
       "      <td>None</td>\n",
       "      <td>1.869751</td>\n",
       "    </tr>\n",
       "    <tr>\n",
       "      <th>4</th>\n",
       "      <td>Masters</td>\n",
       "      <td>7.656860</td>\n",
       "    </tr>\n",
       "  </tbody>\n",
       "</table>\n",
       "</div>"
      ],
      "text/plain": [
       "  Qualification  Hours per week study\n",
       "0     Bachelors              6.219276\n",
       "1          None              4.336212\n",
       "2           PhD              5.096811\n",
       "3          None              1.869751\n",
       "4       Masters              7.656860"
      ]
     },
     "execution_count": 8,
     "metadata": {},
     "output_type": "execute_result"
    }
   ],
   "source": [
    "Hours = rng.normal(loc=4, scale=2,size=200) #taking what Brian said in project pdf, hours per week students are typically centered aroudn a mean of 4 with standard deviation of a quarter and normal distribution is acceptable here\n",
    "df['Hours per week study'] = Hours #Now I have two columns in my dataframe, qualification and hours per week study\n",
    "df.head()"
   ]
  },
  {
   "cell_type": "code",
   "execution_count": null,
   "metadata": {},
   "outputs": [],
   "source": []
  },
  {
   "cell_type": "markdown",
   "metadata": {},
   "source": [
    "## My Simulated Data Idea - An Adults Gender, Height, Weight and Age\n",
    "\n",
    "My idea here is to simulate a dataset for adults based on their Gender, Height, Weight and age.\n",
    "\n",
    "- Gender is an easy one to start with as the population can be reasonably divided into half female and half male.\n",
    "\n",
    "- Age is another easy factor to consider as it is going to be independent of gender, height and weight as none of these will influence someones age.\n",
    "\n",
    "- Height will be exclusively influenced by their gender.\n",
    "\n",
    "- Finally weight will be influenced by all of the other factors, as someones gender, height and age will all factor into their weight.\n",
    "\n",
    "### Exploring the variables in more detail\n",
    "\n",
    "On the face of it gender appears to be an easy 50 50 chance but for the sake of accuracy and to check the veracity of that claim I took a look at the Central Statistics Office (CSO) Census data for Men and Women, handily the CSO page also includes information for their ages as well.\n",
    "[Link to CSO page on Men and Women](https://www.cso.ie/en/releasesandpublications/ep/p-cp3oy/cp3/assr/)\n",
    "\n",
    "Based on the most recent census data (from 2016) the ratio of men to women is not quite equal, there is a minor difference between the ratio of men to women between the ages 15-64 of 980 men to 1000 women. More interestingly however the ratio of men to women broadens significantly when looking at the 65+ age group with 871 men to 1000 women.\n",
    "To start with I will just work with the 15-64 age group."
   ]
  },
  {
   "cell_type": "code",
   "execution_count": 40,
   "metadata": {},
   "outputs": [
    {
     "name": "stdout",
     "output_type": "stream",
     "text": [
      "Probability an adult between 15 to 64 years of age is male: 0.495\n",
      "Probability an adult between 15 to 64 years of age is female: 0.505\n"
     ]
    }
   ],
   "source": [
    "import numpy as np\n",
    "import pandas as pd\n",
    "\n",
    "rng = np.random.default_rng(1)\n",
    "#Ratio of men to women for 2016 980 men to 1000 women\n",
    "p_male_15to64 = round(980/1980, 3) #get the probabilty of being male given age is between 15-64, round to 3 decimal places\n",
    "p_female_15to64 = 1-p_male_15to64\n",
    "print('Probability an adult between 15 to 64 years of age is male:',p_male_15to64)\n",
    "print('Probability an adult between 15 to 64 years of age is female:',p_female_15to64)"
   ]
  },
  {
   "cell_type": "code",
   "execution_count": 79,
   "metadata": {},
   "outputs": [],
   "source": [
    "df = pd.DataFrame(data=rng.choice(['Female','Male'], size=500, p=[p_female_15to64,p_male_15to64]), columns=['Gender'])"
   ]
  },
  {
   "cell_type": "markdown",
   "metadata": {},
   "source": [
    "### Female and Male heights\n",
    "This was somewhat tricky to find, which was surprising and I could not find any figures specific to Ireland so instead I am using the information available from https://ourworldindata.org/human-height\n",
    "\n",
    "The above linked page gives several useful pieces of information for determining height\n",
    "- Height is normally distributed\n",
    "- Females have an average height of 164.7cm\n",
    "    - Std. Deviation of 7.07cm\n",
    "- Males have an average height of 178.4cm\n",
    "    - Std. Deviation of 7.59cm\n",
    "\n",
    "With the above information I can now start simulating data for adult Female and Male heights, however I would like to point out the few generalisations made at this point. The average height and std. deviations listed above are not necessarily the case for Ireland, in fact they probably aren't totally accurate, however in the absence of any truly accurate figures for Ireland these will make a sufficient approximation.\n",
    "Additionally the data presented from the link above uses a relatively young group of adults, which may further skew how the average height and std. deviation would be in reality as potentially for adults born in the 1970's their average height could be shorter than adults born in "
   ]
  },
  {
   "cell_type": "code",
   "execution_count": 80,
   "metadata": {},
   "outputs": [],
   "source": [
    "#df.loc[df['Gender'] =='Male', 'Height'] = rng.normal(loc=178.4,scale=7.07, size=10)\n",
    "for index, row in df.iterrows():\n",
    "    if(row['Gender'] == 'Female'):\n",
    "        df.at[index,'Height (cm)'] = np.round(rng.normal(loc=164.7,scale=7.59, size=1),2)\n",
    "    elif(row['Gender'] == 'Male'):\n",
    "        df.at[index,'Height (cm)']  = np.round(rng.normal(loc=178.4,scale=7.07, size=1),2)"
   ]
  },
  {
   "cell_type": "code",
   "execution_count": 81,
   "metadata": {},
   "outputs": [
    {
     "data": {
      "text/html": [
       "<div>\n",
       "<style scoped>\n",
       "    .dataframe tbody tr th:only-of-type {\n",
       "        vertical-align: middle;\n",
       "    }\n",
       "\n",
       "    .dataframe tbody tr th {\n",
       "        vertical-align: top;\n",
       "    }\n",
       "\n",
       "    .dataframe thead th {\n",
       "        text-align: right;\n",
       "    }\n",
       "</style>\n",
       "<table border=\"1\" class=\"dataframe\">\n",
       "  <thead>\n",
       "    <tr style=\"text-align: right;\">\n",
       "      <th></th>\n",
       "      <th>Height (cm)</th>\n",
       "    </tr>\n",
       "  </thead>\n",
       "  <tbody>\n",
       "    <tr>\n",
       "      <th>count</th>\n",
       "      <td>500.00000</td>\n",
       "    </tr>\n",
       "    <tr>\n",
       "      <th>mean</th>\n",
       "      <td>172.11976</td>\n",
       "    </tr>\n",
       "    <tr>\n",
       "      <th>std</th>\n",
       "      <td>9.51167</td>\n",
       "    </tr>\n",
       "    <tr>\n",
       "      <th>min</th>\n",
       "      <td>149.35000</td>\n",
       "    </tr>\n",
       "    <tr>\n",
       "      <th>25%</th>\n",
       "      <td>165.33000</td>\n",
       "    </tr>\n",
       "    <tr>\n",
       "      <th>50%</th>\n",
       "      <td>172.50500</td>\n",
       "    </tr>\n",
       "    <tr>\n",
       "      <th>75%</th>\n",
       "      <td>178.68000</td>\n",
       "    </tr>\n",
       "    <tr>\n",
       "      <th>max</th>\n",
       "      <td>202.47000</td>\n",
       "    </tr>\n",
       "  </tbody>\n",
       "</table>\n",
       "</div>"
      ],
      "text/plain": [
       "       Height (cm)\n",
       "count    500.00000\n",
       "mean     172.11976\n",
       "std        9.51167\n",
       "min      149.35000\n",
       "25%      165.33000\n",
       "50%      172.50500\n",
       "75%      178.68000\n",
       "max      202.47000"
      ]
     },
     "execution_count": 81,
     "metadata": {},
     "output_type": "execute_result"
    }
   ],
   "source": [
    "df.describe()"
   ]
  },
  {
   "cell_type": "code",
   "execution_count": 82,
   "metadata": {},
   "outputs": [
    {
     "name": "stdout",
     "output_type": "stream",
     "text": [
      "     Gender  Height (cm)\n",
      "0      Male       171.91\n",
      "1      Male       178.17\n",
      "2      Male       175.19\n",
      "3    Female       162.75\n",
      "4    Female       155.97\n",
      "..      ...          ...\n",
      "495    Male       178.46\n",
      "496    Male       169.31\n",
      "497    Male       177.78\n",
      "498    Male       179.13\n",
      "499    Male       186.32\n",
      "\n",
      "[500 rows x 2 columns]\n"
     ]
    }
   ],
   "source": [
    "print(df)"
   ]
  },
  {
   "cell_type": "markdown",
   "metadata": {},
   "source": [
    "From the CSO website https://www.cso.ie/en/releasesandpublications/ep/p-wamii/womenandmeninireland2016/health/#d.en.142587 I was able see what the percentage of adult Females and Males are that are overweight, unfortunately I wasn't able to find a reliable figure for average weight or standard deviation, or how weight is generally distributed across the population.\n",
    "\n",
    "Males overweight - 63.1%\n",
    "\n",
    "Females overweight - 48.4%\n",
    "\n",
    "Knowing the percentage of women and men that are overweight I am going to use this to information to determine for a given individual whether or not they are overweight.\n",
    "\n",
    "Once it is determined whether or not they are overweight or a healthy weight (ignoring here the possibility of being severely underweight) I will estimate a value for the weight they are taking into account their height as the criteria for someone being overweight is proportional to their height (e.g. for two different individuals at the same weight one may be overweight and the other not if their weight differs significantly).\n",
    "\n",
    "Whether someone is overweight or not is determined by their BMI and from the CSO page linked above, they cite a BMI between 25 and 30 as being pre-obese and anything greater than 30 as obese.\n",
    "BMI is calculated using the formula:\n",
    "\\begin{align}\n",
    "\\ BMI & = \\frac{m}{h^{2}} \\\\\n",
    "\\end{align}\n",
    "\n",
    "Where m is mass (or Weight) in kg and h is height in cm."
   ]
  },
  {
   "cell_type": "code",
   "execution_count": 83,
   "metadata": {},
   "outputs": [],
   "source": [
    "for index, row in df.iterrows(): #loop through each row in dataframe\n",
    "    if(row['Gender'] == 'Female'): #if row is gender then there is a 48.4% chance they are over weight\n",
    "        df.at[index,'Weight Category'] = rng.choice(['Healthy Weight', 'Over Weight'], p=[.516,.484])\n",
    "        if(df.at[index,'Weight Category'] =='Over Weight'): #depending on whether this person was over or healthy weight\n",
    "            bmi_lower = 25\n",
    "            bmi_upper = 35\n",
    "        elif(df.at[index,'Weight Category'] =='Healthy Weight'):\n",
    "            bmi_upper = 25\n",
    "            bmi_lower = 18.5\n",
    "    elif(row['Gender'] == 'Male'):\n",
    "        df.at[index,'Weight Category'] = rng.choice(['Healthy Weight', 'Over Weight'], p=[.369,.631])\n",
    "        if(df.at[index,'Weight Category'] =='Over Weight'):\n",
    "            bmi_lower = 25\n",
    "            bmi_upper = 35\n",
    "        elif(df.at[index,'Weight Category'] =='Healthy Weight'):\n",
    "            bmi_upper = 25\n",
    "            bmi_lower = 18.5\n",
    "    bmi = rng.integers(bmi_lower,bmi_upper)\n",
    "    height = df.at[index,'Height (cm)']/100\n",
    "    weight = bmi*(height**2)\n",
    "    df.at[index, 'Weight (KG)'] = np.round(weight, 3)"
   ]
  },
  {
   "cell_type": "code",
   "execution_count": 84,
   "metadata": {},
   "outputs": [
    {
     "data": {
      "text/plain": [
       "3.1445739535045694"
      ]
     },
     "execution_count": 84,
     "metadata": {},
     "output_type": "execute_result"
    }
   ],
   "source": [
    "rng.uniform(1,10)"
   ]
  },
  {
   "cell_type": "code",
   "execution_count": 85,
   "metadata": {},
   "outputs": [
    {
     "data": {
      "text/html": [
       "<div>\n",
       "<style scoped>\n",
       "    .dataframe tbody tr th:only-of-type {\n",
       "        vertical-align: middle;\n",
       "    }\n",
       "\n",
       "    .dataframe tbody tr th {\n",
       "        vertical-align: top;\n",
       "    }\n",
       "\n",
       "    .dataframe thead th {\n",
       "        text-align: right;\n",
       "    }\n",
       "</style>\n",
       "<table border=\"1\" class=\"dataframe\">\n",
       "  <thead>\n",
       "    <tr style=\"text-align: right;\">\n",
       "      <th></th>\n",
       "      <th>Gender</th>\n",
       "      <th>Height (cm)</th>\n",
       "      <th>Weight Category</th>\n",
       "      <th>Weight (KG)</th>\n",
       "    </tr>\n",
       "  </thead>\n",
       "  <tbody>\n",
       "    <tr>\n",
       "      <th>0</th>\n",
       "      <td>Male</td>\n",
       "      <td>171.91</td>\n",
       "      <td>Over Weight</td>\n",
       "      <td>85.704</td>\n",
       "    </tr>\n",
       "    <tr>\n",
       "      <th>1</th>\n",
       "      <td>Male</td>\n",
       "      <td>178.17</td>\n",
       "      <td>Over Weight</td>\n",
       "      <td>104.757</td>\n",
       "    </tr>\n",
       "    <tr>\n",
       "      <th>2</th>\n",
       "      <td>Male</td>\n",
       "      <td>175.19</td>\n",
       "      <td>Over Weight</td>\n",
       "      <td>76.729</td>\n",
       "    </tr>\n",
       "    <tr>\n",
       "      <th>3</th>\n",
       "      <td>Female</td>\n",
       "      <td>162.75</td>\n",
       "      <td>Healthy Weight</td>\n",
       "      <td>58.273</td>\n",
       "    </tr>\n",
       "    <tr>\n",
       "      <th>4</th>\n",
       "      <td>Female</td>\n",
       "      <td>155.97</td>\n",
       "      <td>Healthy Weight</td>\n",
       "      <td>46.221</td>\n",
       "    </tr>\n",
       "    <tr>\n",
       "      <th>...</th>\n",
       "      <td>...</td>\n",
       "      <td>...</td>\n",
       "      <td>...</td>\n",
       "      <td>...</td>\n",
       "    </tr>\n",
       "    <tr>\n",
       "      <th>495</th>\n",
       "      <td>Male</td>\n",
       "      <td>178.46</td>\n",
       "      <td>Over Weight</td>\n",
       "      <td>98.729</td>\n",
       "    </tr>\n",
       "    <tr>\n",
       "      <th>496</th>\n",
       "      <td>Male</td>\n",
       "      <td>169.31</td>\n",
       "      <td>Over Weight</td>\n",
       "      <td>80.264</td>\n",
       "    </tr>\n",
       "    <tr>\n",
       "      <th>497</th>\n",
       "      <td>Male</td>\n",
       "      <td>177.78</td>\n",
       "      <td>Healthy Weight</td>\n",
       "      <td>56.890</td>\n",
       "    </tr>\n",
       "    <tr>\n",
       "      <th>498</th>\n",
       "      <td>Male</td>\n",
       "      <td>179.13</td>\n",
       "      <td>Healthy Weight</td>\n",
       "      <td>60.966</td>\n",
       "    </tr>\n",
       "    <tr>\n",
       "      <th>499</th>\n",
       "      <td>Male</td>\n",
       "      <td>186.32</td>\n",
       "      <td>Healthy Weight</td>\n",
       "      <td>76.373</td>\n",
       "    </tr>\n",
       "  </tbody>\n",
       "</table>\n",
       "<p>500 rows × 4 columns</p>\n",
       "</div>"
      ],
      "text/plain": [
       "     Gender  Height (cm) Weight Category  Weight (KG)\n",
       "0      Male       171.91     Over Weight       85.704\n",
       "1      Male       178.17     Over Weight      104.757\n",
       "2      Male       175.19     Over Weight       76.729\n",
       "3    Female       162.75  Healthy Weight       58.273\n",
       "4    Female       155.97  Healthy Weight       46.221\n",
       "..      ...          ...             ...          ...\n",
       "495    Male       178.46     Over Weight       98.729\n",
       "496    Male       169.31     Over Weight       80.264\n",
       "497    Male       177.78  Healthy Weight       56.890\n",
       "498    Male       179.13  Healthy Weight       60.966\n",
       "499    Male       186.32  Healthy Weight       76.373\n",
       "\n",
       "[500 rows x 4 columns]"
      ]
     },
     "execution_count": 85,
     "metadata": {},
     "output_type": "execute_result"
    }
   ],
   "source": [
    "df"
   ]
  },
  {
   "cell_type": "code",
   "execution_count": 86,
   "metadata": {},
   "outputs": [
    {
     "name": "stderr",
     "output_type": "stream",
     "text": [
      "c:\\python38\\lib\\site-packages\\seaborn\\_decorators.py:36: FutureWarning: Pass the following variables as keyword args: x, y. From version 0.12, the only valid positional argument will be `data`, and passing other arguments without an explicit keyword will result in an error or misinterpretation.\n",
      "  warnings.warn(\n"
     ]
    },
    {
     "data": {
      "image/png": "[encoded data removed]",
      "text/plain": [
       "<Figure size 432x288 with 1 Axes>"
      ]
     },
     "metadata": {
      "needs_background": "light"
     },
     "output_type": "display_data"
    }
   ],
   "source": [
    "import seaborn as sns\n",
    "sns.scatterplot( df['Weight (KG)'], df['Height (cm)'], hue=df['Gender']);"
   ]
  },
  {
   "cell_type": "code",
   "execution_count": null,
   "metadata": {},
   "outputs": [],
   "source": []
  },
  {
   "cell_type": "code",
   "execution_count": null,
   "metadata": {},
   "outputs": [],
   "source": []
  }
 ],
 "metadata": {
  "kernelspec": {
   "display_name": "Python 3",
   "language": "python",
   "name": "python3"
  },
  "language_info": {
   "codemirror_mode": {
    "name": "ipython",
    "version": 3
   },
   "file_extension": ".py",
   "mimetype": "text/x-python",
   "name": "python",
   "nbconvert_exporter": "python",
   "pygments_lexer": "ipython3",
   "version": "3.8.5"
  }
 },
 "nbformat": 4,
 "nbformat_minor": 4
}
