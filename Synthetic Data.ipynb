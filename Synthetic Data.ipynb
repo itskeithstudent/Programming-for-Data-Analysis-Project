{
 "cells": [
  {
   "cell_type": "markdown",
   "metadata": {},
   "source": [
    "# Programming for Data Analysis Project\n",
    "For this project I will be synthesizing a dataset, to do so I will be using various functions of the numpy.random package to create interpretations of real world phenomenon, a lot of the work done for this notebook will be in determining what this data looks like in reality so that the synthetic data is a fairly good reflection of it.\n",
    "\n",
    "An example to illustrate this (as provided by the lecturer), is to consider students enrolled in a module, based on this example it seems sensible to consider each student has a grade at the end of a module and as we know from the common misconception that lecturers grade to a bell curve, is in fact due to the how phenomenon such as this tends to follow a normal distribution.\n",
    "Following on from this we can assert that there are other factors that will help to determine their grade, such as their level of education going into this module (it stands to reason that someone with a PhD will in general outperform someone who has a bachelors degree), the amount of hours a student studies is also probably effecting their grade as is perhaps whether the student is full time or part time.  "
   ]
  },
  {
   "cell_type": "markdown",
   "metadata": {},
   "source": [
    "## My Synthetic Data Idea - Adults Gender, Height, Weight and Age across the Irish Population prior to retirement\n",
    "\n",
    "My idea here is to simulate a dataset for adults based on their Gender, Height, Weight and Age, for this I will be considering only those from the age of 18 to 64 and those who fall under the categories of health and over weight.\n",
    "\n",
    "- Gender is an straight forward to start with as the population can be reasonably divided into half female and half male.\n",
    "\n",
    "- Age is another direct factor to consider as it is wiill be independent of height and weight as neither of these will influence someones age.\n",
    "\n",
    "- Height will be exclusively influenced by their gender, one of the assumptions made here is that a person stops getting taller after 18, which is not strictly true and likewise as people get past a certain age they also do lose some height.\n",
    "\n",
    "- Finally weight will be influenced by all of the other factors, as someones gender, height and age will all factor into their weight.\n",
    "\n",
    "### Exploring the variables in more detail and their relationships\n",
    "\n",
    "\n",
    "In general with dependent and independent variables a variable can only be one or the other, however for this project as I am generating the variables in different steps I think it is fair to say that they all are dependent varaibles in a certain context, even though they are not directly influenced by the other variables within the dataset. \n",
    "\n",
    "What I mean by this is that Gender is something that is technically an independent variable for each of the other variables but when generating the different genders it is itself effected by the proportion of the overall population, which I will be using to determine the likelihood of any individual being female or male, therefore in that context Gender is a dependent variable and the independent variable is the female to male ratio of the population in Ireland.\n",
    "\n",
    "#### Dependent variables and the Independent Variables that effect them\n",
    "[Gender] <= [Proportion of Females to Males in Population]\n",
    "\n",
    "[Age] <= [Proportion of Ages in Population], [Gender]\n",
    "\n",
    "[Height] <= [Gender]\n",
    "\n",
    "[Weight] <= [Gender], [Height]\n",
    "\n",
    "***\n",
    "\n",
    "On the face of it gender appears to be an easy 50 50 chance but for the sake of accuracy and to check the veracity of that claim I took a look at the Central Statistics Office (CSO) Census data for Men and Women, handily the CSO page also includes information for their ages as well.\n",
    "[Link to CSO page on Men and Women](https://www.cso.ie/en/releasesandpublications/ep/p-cp3oy/cp3/assr/)\n",
    "\n",
    "Based on the most recent census data (from 2016) the ratio of men to women is not quite equal, there is a minor difference between the ratio of men to women between the ages 15-64 of 980 men to 1000 women. More interestingly however the ratio of men to women broadens significantly when looking at the 65+ age group with 871 men to 1000 women."
   ]
  },
  {
   "cell_type": "markdown",
   "metadata": {},
   "source": [
    "## Determining Gender and Age using 2016 Census Data\n",
    "\n",
    "As I was looking at the census data to determine how age is distributed from the ages of 18-64 and the census data is freely available to download I took a look at the dataset and have used it to determine the actual ratio of Female's to Male's  across the Irish population (as of 2016 at least), while also determining how age is distributed across the genders also.\n",
    "\n",
    "As mentioned above, this dataset was taken from the CSO https://data.cso.ie/table/EY007 (you can find the downloaded dataset in csv format in the Data folder of this repository), it contains the Census data for 2016 which gives the numbers of individuals by gender across different ages.\n"
   ]
  },
  {
   "cell_type": "code",
   "execution_count": 66,
   "metadata": {},
   "outputs": [],
   "source": [
    "import pandas as pd\n",
    "import numpy as np\n",
    "import matplotlib.pyplot as plt\n",
    "import seaborn as sns\n",
    "plt.style.use('ggplot')"
   ]
  },
  {
   "cell_type": "code",
   "execution_count": 67,
   "metadata": {},
   "outputs": [
    {
     "name": "stdout",
     "output_type": "stream",
     "text": [
      "Total women between ages 18-64 - 1484990\n",
      "Total men between ages 18-64 -  1448806\n",
      "Total population between ages 18-64 - 2933796\n",
      "Females as percentage of population - 0.5061667546073415\n",
      "Males as percentage of population - 0.49383324539265855\n"
     ]
    }
   ],
   "source": [
    "rng = np.random.default_rng(1)\n",
    "\n",
    "cso_df = pd.read_csv('Data\\cso population 2011-2016.csv') #reading in csv file for dataset\n",
    "\n",
    "#filter down to 2016, filter out all rows containing Both Sexes and include only rows showing population \n",
    "cso_df = cso_df[(cso_df['CensusYear']==2016) & (cso_df['Sex']!='Both sexes') & (cso_df['At Each Year of Age']=='Population') ] \n",
    "\n",
    "#Convert column containing age to be numeric and assign to new column\n",
    "cso_df['Age'] = pd.to_numeric(cso_df['C02076V03371'],errors='coerce')\n",
    "\n",
    "#drop unecessary columns as there is a lot of unecessary columns and confusingly named\n",
    "cso_df = cso_df.drop(['STATISTIC', 'C02199V02655', 'Age Last Birthday', 'At Each Year of Age', 'UNIT', 'C02076V03371', 'C02786V03355', 'C02786V03355', 'TLIST(A1)', 'Statistic'], axis=1)\n",
    "\n",
    "#filter down to the age group of interest 18 to 64\n",
    "cso_df = cso_df[(cso_df['Age'] >=18) & (cso_df['Age'] <=64)].reset_index(drop=True)\n",
    "\n",
    "#subset the dataframe into a male and female set, this is done to make getting proportions of the population simpler\n",
    "cso_male_df = cso_df[cso_df['Sex']=='Male'].reset_index(drop=True)\n",
    "cso_female_df = cso_df[cso_df['Sex']=='Female'].reset_index(drop=True)\n",
    "\n",
    "# Now that dataframes have been cleaned and subsetted to the relevant data and groupings, \n",
    "# can get some statistics on the population\n",
    "\n",
    "total_female_pop = cso_female_df['VALUE'].sum()\n",
    "total_male_pop = cso_male_df['VALUE'].sum()\n",
    "total_pop = total_male_pop + total_female_pop\n",
    "female_percentage = total_female_pop/total_pop\n",
    "male_percentage = total_male_pop/total_pop\n",
    "print('Total women between ages 18-64 -', total_female_pop)\n",
    "print('Total men between ages 18-64 - ', total_male_pop)\n",
    "print('Total population between ages 18-64 -', total_pop)\n",
    "print('Females as percentage of population -', female_percentage)\n",
    "print('Males as percentage of population -', male_percentage)"
   ]
  },
  {
   "cell_type": "markdown",
   "metadata": {},
   "source": [
    "Based on the above I can now start to synthesize some fake data as I now have some representative figures for what percentage of the population Females and Males make up, so this is my first step."
   ]
  },
  {
   "cell_type": "code",
   "execution_count": 68,
   "metadata": {},
   "outputs": [
    {
     "data": {
      "text/html": [
       "<div>\n",
       "<style scoped>\n",
       "    .dataframe tbody tr th:only-of-type {\n",
       "        vertical-align: middle;\n",
       "    }\n",
       "\n",
       "    .dataframe tbody tr th {\n",
       "        vertical-align: top;\n",
       "    }\n",
       "\n",
       "    .dataframe thead th {\n",
       "        text-align: right;\n",
       "    }\n",
       "</style>\n",
       "<table border=\"1\" class=\"dataframe\">\n",
       "  <thead>\n",
       "    <tr style=\"text-align: right;\">\n",
       "      <th></th>\n",
       "      <th>Gender</th>\n",
       "    </tr>\n",
       "  </thead>\n",
       "  <tbody>\n",
       "    <tr>\n",
       "      <th>0</th>\n",
       "      <td>Male</td>\n",
       "    </tr>\n",
       "    <tr>\n",
       "      <th>1</th>\n",
       "      <td>Male</td>\n",
       "    </tr>\n",
       "    <tr>\n",
       "      <th>2</th>\n",
       "      <td>Female</td>\n",
       "    </tr>\n",
       "    <tr>\n",
       "      <th>3</th>\n",
       "      <td>Male</td>\n",
       "    </tr>\n",
       "    <tr>\n",
       "      <th>4</th>\n",
       "      <td>Female</td>\n",
       "    </tr>\n",
       "    <tr>\n",
       "      <th>...</th>\n",
       "      <td>...</td>\n",
       "    </tr>\n",
       "    <tr>\n",
       "      <th>495</th>\n",
       "      <td>Male</td>\n",
       "    </tr>\n",
       "    <tr>\n",
       "      <th>496</th>\n",
       "      <td>Male</td>\n",
       "    </tr>\n",
       "    <tr>\n",
       "      <th>497</th>\n",
       "      <td>Female</td>\n",
       "    </tr>\n",
       "    <tr>\n",
       "      <th>498</th>\n",
       "      <td>Male</td>\n",
       "    </tr>\n",
       "    <tr>\n",
       "      <th>499</th>\n",
       "      <td>Male</td>\n",
       "    </tr>\n",
       "  </tbody>\n",
       "</table>\n",
       "<p>500 rows × 1 columns</p>\n",
       "</div>"
      ],
      "text/plain": [
       "     Gender\n",
       "0      Male\n",
       "1      Male\n",
       "2    Female\n",
       "3      Male\n",
       "4    Female\n",
       "..      ...\n",
       "495    Male\n",
       "496    Male\n",
       "497  Female\n",
       "498    Male\n",
       "499    Male\n",
       "\n",
       "[500 rows x 1 columns]"
      ]
     },
     "execution_count": 68,
     "metadata": {},
     "output_type": "execute_result"
    }
   ],
   "source": [
    "#Creating a dataframe that starts with single column for gender \n",
    "df = pd.DataFrame(data=rng.choice(['Female','Male'], size=500, p=[female_percentage, male_percentage]), columns=['Gender'])\n",
    "#Taking a peak at table so far\n",
    "df"
   ]
  },
  {
   "cell_type": "markdown",
   "metadata": {},
   "source": [
    "With the first variable in my dataset generated, I now want to look at adding age, but first I want to use the female and male dataframes from before to determine the probabilities for being a certain age.\n",
    "\n",
    "To do so I will simply be creating some list's that track the percentage for "
   ]
  },
  {
   "cell_type": "code",
   "execution_count": 86,
   "metadata": {},
   "outputs": [],
   "source": [
    "#Get proportion of male population at different ages\n",
    "#storing percentage, age, and count in different lists for simplicity and readability as they all get assigned in same loop\n",
    "#should be no issues with ordering, see commented out dict line's below to see why it was removed\n",
    "male_age_percentage_list = []\n",
    "male_age_list = []\n",
    "male_count_list = []\n",
    "#male_age_dict = {}\n",
    "for i in range(len(cso_male_df)):\n",
    "    #get percentage of males at current age over total male population\n",
    "    percentage = cso_male_df['VALUE'][i]/cso_male_df['VALUE'].sum()\n",
    "    #append to list\n",
    "    male_count_list.append(cso_male_df['VALUE'][i])\n",
    "    male_age_percentage_list.append(percentage)\n",
    "    male_age_list.append(int(cso_male_df['Age'][i]))\n",
    "    #male_age_dict[int(cso_male_df['Age'][i])] = {'Percentage': percentage, 'Number':cso_male_df['VALUE'][i]}"
   ]
  },
  {
   "cell_type": "code",
   "execution_count": 87,
   "metadata": {},
   "outputs": [],
   "source": [
    "#Get proportion of female population at different ages\n",
    "female_age_percentage_list = []\n",
    "female_age_list = []\n",
    "female_count_list = []\n",
    "#female_age_dict = {}\n",
    "for i in range(len(cso_male_df)):\n",
    "    #get percentage of females at current age over total female population\n",
    "    percentage = cso_female_df['VALUE'][i]/cso_female_df['VALUE'].sum()\n",
    "    #append to list\n",
    "    female_count_list.append(cso_female_df['VALUE'][i])\n",
    "    female_age_percentage_list.append(percentage)\n",
    "    female_age_list.append(int(cso_female_df['Age'][i]))\n",
    "    #female_age_dict[int(cso_female_df['Age'][i])] = {'Percentage': percentage, 'Number':cso_female_df['VALUE'][i]}"
   ]
  },
  {
   "cell_type": "code",
   "execution_count": 91,
   "metadata": {},
   "outputs": [
    {
     "data": {
      "text/plain": [
       "Text(0, 0.5, 'Number of population')"
      ]
     },
     "execution_count": 91,
     "metadata": {},
     "output_type": "execute_result"
    },
    {
     "data": {
      "image/png": "[encoded data removed]",
      "text/plain": [
       "<Figure size 432x288 with 1 Axes>"
      ]
     },
     "metadata": {},
     "output_type": "display_data"
    }
   ],
   "source": [
    "#visualising the distribution of age by gender\n",
    "sns.scatterplot(x=cso_female_df['Age'],y=cso_female_df['VALUE'], color='b', label='female')\n",
    "sns.scatterplot(x=cso_male_df['Age'],y=cso_male_df['VALUE'], color='red', label='male')\n",
    "plt.title('female and male number of individuals by age')\n",
    "plt.ylabel('Number of population')"
   ]
  },
  {
   "cell_type": "markdown",
   "metadata": {},
   "source": [
    "The above scatter plot shows the number of females and males across different ages, and shows that age is indeed not normally distributed therefore I believe the only takeaway I can get from this, is the percentage of the overall population that each age makes up and using that to then determine a persons age by using weighted probabilities with numpy's choice function.\n",
    "\n",
    "Further inspection of the scatter plot shows a few interesting bits, firstly that there seems to be a trend downwards from teenagers into their twenties, but then a linear population increase for any age up till around 38 years, whereafter it then has a linear descent. The descent after 38 makes sense intuitively to me, naturally as people age they have more chance of having died to some accident or to some disease. what makes less sense is that there is a population dip at around 20 years of age, I would presume that this is due to a tendency in first world countries to have declining birth rates as a country becomes more developed, however this would not explain the fact that there appears to be significantly more 18 and 19 year olds than 22 year olds.\n",
    "\n",
    "\n",
    "## Adding Age as a variable to the dataset\n",
    "Now that we've determined the probabilities for the various ages across males and females, in the next cell I will use this to assign ages based on the individuals gender. This will update the existing dataframe to now include a new column for our variable Age."
   ]
  },
  {
   "cell_type": "code",
   "execution_count": 100,
   "metadata": {},
   "outputs": [
    {
     "data": {
      "text/html": [
       "<div>\n",
       "<style scoped>\n",
       "    .dataframe tbody tr th:only-of-type {\n",
       "        vertical-align: middle;\n",
       "    }\n",
       "\n",
       "    .dataframe tbody tr th {\n",
       "        vertical-align: top;\n",
       "    }\n",
       "\n",
       "    .dataframe thead th {\n",
       "        text-align: right;\n",
       "    }\n",
       "</style>\n",
       "<table border=\"1\" class=\"dataframe\">\n",
       "  <thead>\n",
       "    <tr style=\"text-align: right;\">\n",
       "      <th></th>\n",
       "      <th>Gender</th>\n",
       "      <th>Age</th>\n",
       "      <th>Height (cm)</th>\n",
       "    </tr>\n",
       "  </thead>\n",
       "  <tbody>\n",
       "    <tr>\n",
       "      <th>0</th>\n",
       "      <td>Male</td>\n",
       "      <td>34.0</td>\n",
       "      <td>170.74</td>\n",
       "    </tr>\n",
       "    <tr>\n",
       "      <th>1</th>\n",
       "      <td>Male</td>\n",
       "      <td>46.0</td>\n",
       "      <td>171.94</td>\n",
       "    </tr>\n",
       "    <tr>\n",
       "      <th>2</th>\n",
       "      <td>Female</td>\n",
       "      <td>61.0</td>\n",
       "      <td>156.40</td>\n",
       "    </tr>\n",
       "    <tr>\n",
       "      <th>3</th>\n",
       "      <td>Male</td>\n",
       "      <td>22.0</td>\n",
       "      <td>175.40</td>\n",
       "    </tr>\n",
       "    <tr>\n",
       "      <th>4</th>\n",
       "      <td>Female</td>\n",
       "      <td>38.0</td>\n",
       "      <td>157.03</td>\n",
       "    </tr>\n",
       "    <tr>\n",
       "      <th>...</th>\n",
       "      <td>...</td>\n",
       "      <td>...</td>\n",
       "      <td>...</td>\n",
       "    </tr>\n",
       "    <tr>\n",
       "      <th>495</th>\n",
       "      <td>Male</td>\n",
       "      <td>24.0</td>\n",
       "      <td>175.93</td>\n",
       "    </tr>\n",
       "    <tr>\n",
       "      <th>496</th>\n",
       "      <td>Male</td>\n",
       "      <td>24.0</td>\n",
       "      <td>192.60</td>\n",
       "    </tr>\n",
       "    <tr>\n",
       "      <th>497</th>\n",
       "      <td>Female</td>\n",
       "      <td>58.0</td>\n",
       "      <td>158.26</td>\n",
       "    </tr>\n",
       "    <tr>\n",
       "      <th>498</th>\n",
       "      <td>Male</td>\n",
       "      <td>55.0</td>\n",
       "      <td>175.64</td>\n",
       "    </tr>\n",
       "    <tr>\n",
       "      <th>499</th>\n",
       "      <td>Male</td>\n",
       "      <td>54.0</td>\n",
       "      <td>174.52</td>\n",
       "    </tr>\n",
       "  </tbody>\n",
       "</table>\n",
       "<p>500 rows × 3 columns</p>\n",
       "</div>"
      ],
      "text/plain": [
       "     Gender   Age  Height (cm)\n",
       "0      Male  34.0       170.74\n",
       "1      Male  46.0       171.94\n",
       "2    Female  61.0       156.40\n",
       "3      Male  22.0       175.40\n",
       "4    Female  38.0       157.03\n",
       "..      ...   ...          ...\n",
       "495    Male  24.0       175.93\n",
       "496    Male  24.0       192.60\n",
       "497  Female  58.0       158.26\n",
       "498    Male  55.0       175.64\n",
       "499    Male  54.0       174.52\n",
       "\n",
       "[500 rows x 3 columns]"
      ]
     },
     "execution_count": 100,
     "metadata": {},
     "output_type": "execute_result"
    }
   ],
   "source": [
    "for index, row in df.iterrows():\n",
    "    if(row['Gender'] == 'Female'):\n",
    "        df.at[index,'Age'] = rng.choice(female_age_list, p=female_age_percentage_list)\n",
    "    elif(row['Gender'] == 'Male'):\n",
    "        df.at[index,'Age']  = rng.choice(male_age_list, p=male_age_percentage_list)\n",
    "df"
   ]
  },
  {
   "cell_type": "markdown",
   "metadata": {},
   "source": [
    "***\n",
    "### Brief aside\n",
    "In this next section I just wanted to see how the mean and standard deviations varied for men and women, this has no bearing on the dataset but I thought it was interesting."
   ]
  },
  {
   "cell_type": "code",
   "execution_count": 10,
   "metadata": {},
   "outputs": [
    {
     "name": "stdout",
     "output_type": "stream",
     "text": [
      "40.318919992727224\n",
      "12.717799985196626\n"
     ]
    }
   ],
   "source": [
    "female_age_sum = 0\n",
    "female_age_sum_sq = 0\n",
    "for i in range(len(female_age_list)):\n",
    "    female_age_sum += female_age_list[i]*female_count_list[i]\n",
    "mean_female_age = female_age_sum/total_female_pop\n",
    "\n",
    "female_age_sum_sq = 0\n",
    "for i in range(len(female_age_list)):\n",
    "    female_age_sum_sq += female_count_list[i]*((female_age_list[i]-mean)**2)\n",
    "\n",
    "stddev_female_age = np.sqrt(female_age_sum_sq/total_female_pop)\n",
    "\n",
    "print(mean_female_age)\n",
    "print(stddev_female_age)"
   ]
  },
  {
   "cell_type": "code",
   "execution_count": 11,
   "metadata": {},
   "outputs": [
    {
     "name": "stdout",
     "output_type": "stream",
     "text": [
      "40.343749266637495\n",
      "12.814326493317076\n"
     ]
    }
   ],
   "source": [
    "male_age_sum = 0\n",
    "male_age_sum_sq = 0\n",
    "for i in range(len(male_age_list)):\n",
    "    male_age_sum += male_age_list[i]*male_count_list[i]\n",
    "mean_male_age = male_age_sum/total_male_pop\n",
    "\n",
    "male_age_sum_sq = 0\n",
    "for i in range(len(male_age_list)):\n",
    "    male_age_sum_sq += male_count_list[i]*((male_age_list[i]-mean_male_age)**2)\n",
    "\n",
    "stddev_male_age = np.sqrt(male_age_sum_sq/total_male_pop)\n",
    "\n",
    "print(mean_male_age)\n",
    "print(stddev_male_age)"
   ]
  },
  {
   "cell_type": "markdown",
   "metadata": {},
   "source": [
    "Unsurprisingly the mean and standard deviation don't differ much, as we could see from the earlier scatter plot, they tend to track fairly closesly to one another.\n",
    "***"
   ]
  },
  {
   "cell_type": "markdown",
   "metadata": {},
   "source": [
    "### Determining and adding Female and Male heights as variables\n",
    "\n",
    "This was somewhat tricky to find, which was surprising and I could not find any figures specific to Ireland so instead I am using the information available from [OurWorldInData](https://ourworldindata.org/human-height)\n",
    "\n",
    "The above linked page gives several useful pieces of information for determining height\n",
    "- Height is normally distributed\n",
    "- Females have an average height of 164.7cm\n",
    "    - With a Std. Deviation of 7.07cm\n",
    "- Males have an average height of 178.4cm\n",
    "    - With a Std. Deviation of 7.59cm\n",
    "\n",
    "With the above information I can now start simulating data for adult Female and Male heights, however I would like to point out some of the generalisations made at this point. \n",
    "\n",
    "The average height and std. deviations listed above are not necessarily the case for Ireland, in fact they probably aren't totally accurate, however in the absence of any truly accurate figures for Ireland these will make a sufficient approximation.\n",
    "Additionally the data presented from the link above uses a relatively young group of adults, which may further skew how the average height and std. deviation would be in reality as potentially for adults born in the 1970's their average height could be shorter than adults who were born in more recent years.\n",
    "\n",
    "That aside, using the figures from above and applying them to my dataset using numpy's normal distribution function is done in the next code cell."
   ]
  },
  {
   "cell_type": "code",
   "execution_count": 94,
   "metadata": {},
   "outputs": [],
   "source": [
    "#Loop through each row of dataframe so far and check whether Female or Male\n",
    "for index, row in df.iterrows():\n",
    "    if(row['Gender'] == 'Female'):\n",
    "        df.at[index,'Height (cm)'] = np.round(rng.normal(loc=164.7,scale=7.59, size=1),2)\n",
    "    elif(row['Gender'] == 'Male'):\n",
    "        df.at[index,'Height (cm)']  = np.round(rng.normal(loc=178.4,scale=7.07, size=1),2)"
   ]
  },
  {
   "cell_type": "code",
   "execution_count": 98,
   "metadata": {},
   "outputs": [
    {
     "data": {
      "text/html": [
       "<div>\n",
       "<style scoped>\n",
       "    .dataframe tbody tr th:only-of-type {\n",
       "        vertical-align: middle;\n",
       "    }\n",
       "\n",
       "    .dataframe tbody tr th {\n",
       "        vertical-align: top;\n",
       "    }\n",
       "\n",
       "    .dataframe thead th {\n",
       "        text-align: right;\n",
       "    }\n",
       "</style>\n",
       "<table border=\"1\" class=\"dataframe\">\n",
       "  <thead>\n",
       "    <tr style=\"text-align: right;\">\n",
       "      <th></th>\n",
       "      <th>Age</th>\n",
       "      <th>Height (cm)</th>\n",
       "    </tr>\n",
       "  </thead>\n",
       "  <tbody>\n",
       "    <tr>\n",
       "      <th>count</th>\n",
       "      <td>500.000000</td>\n",
       "      <td>500.000000</td>\n",
       "    </tr>\n",
       "    <tr>\n",
       "      <th>mean</th>\n",
       "      <td>40.650000</td>\n",
       "      <td>171.590320</td>\n",
       "    </tr>\n",
       "    <tr>\n",
       "      <th>std</th>\n",
       "      <td>12.656852</td>\n",
       "      <td>10.063009</td>\n",
       "    </tr>\n",
       "    <tr>\n",
       "      <th>min</th>\n",
       "      <td>18.000000</td>\n",
       "      <td>146.270000</td>\n",
       "    </tr>\n",
       "    <tr>\n",
       "      <th>25%</th>\n",
       "      <td>30.000000</td>\n",
       "      <td>164.240000</td>\n",
       "    </tr>\n",
       "    <tr>\n",
       "      <th>50%</th>\n",
       "      <td>40.000000</td>\n",
       "      <td>172.170000</td>\n",
       "    </tr>\n",
       "    <tr>\n",
       "      <th>75%</th>\n",
       "      <td>51.000000</td>\n",
       "      <td>178.412500</td>\n",
       "    </tr>\n",
       "    <tr>\n",
       "      <th>max</th>\n",
       "      <td>64.000000</td>\n",
       "      <td>199.600000</td>\n",
       "    </tr>\n",
       "  </tbody>\n",
       "</table>\n",
       "</div>"
      ],
      "text/plain": [
       "              Age  Height (cm)\n",
       "count  500.000000   500.000000\n",
       "mean    40.650000   171.590320\n",
       "std     12.656852    10.063009\n",
       "min     18.000000   146.270000\n",
       "25%     30.000000   164.240000\n",
       "50%     40.000000   172.170000\n",
       "75%     51.000000   178.412500\n",
       "max     64.000000   199.600000"
      ]
     },
     "execution_count": 98,
     "metadata": {},
     "output_type": "execute_result"
    }
   ],
   "source": [
    "df.describe()"
   ]
  },
  {
   "cell_type": "code",
   "execution_count": 27,
   "metadata": {},
   "outputs": [
    {
     "data": {
      "text/html": [
       "<div>\n",
       "<style scoped>\n",
       "    .dataframe tbody tr th:only-of-type {\n",
       "        vertical-align: middle;\n",
       "    }\n",
       "\n",
       "    .dataframe tbody tr th {\n",
       "        vertical-align: top;\n",
       "    }\n",
       "\n",
       "    .dataframe thead th {\n",
       "        text-align: right;\n",
       "    }\n",
       "</style>\n",
       "<table border=\"1\" class=\"dataframe\">\n",
       "  <thead>\n",
       "    <tr style=\"text-align: right;\">\n",
       "      <th></th>\n",
       "      <th>Gender</th>\n",
       "      <th>Age</th>\n",
       "      <th>Height (cm)</th>\n",
       "      <th>Weight Category</th>\n",
       "      <th>Weight (KG)</th>\n",
       "    </tr>\n",
       "  </thead>\n",
       "  <tbody>\n",
       "    <tr>\n",
       "      <th>0</th>\n",
       "      <td>Male</td>\n",
       "      <td>37.0</td>\n",
       "      <td>173.02</td>\n",
       "      <td>Healthy Weight</td>\n",
       "      <td>61.384</td>\n",
       "    </tr>\n",
       "    <tr>\n",
       "      <th>1</th>\n",
       "      <td>Male</td>\n",
       "      <td>19.0</td>\n",
       "      <td>171.25</td>\n",
       "      <td>Over Weight</td>\n",
       "      <td>92.550</td>\n",
       "    </tr>\n",
       "    <tr>\n",
       "      <th>2</th>\n",
       "      <td>Female</td>\n",
       "      <td>26.0</td>\n",
       "      <td>171.39</td>\n",
       "      <td>Healthy Weight</td>\n",
       "      <td>57.782</td>\n",
       "    </tr>\n",
       "    <tr>\n",
       "      <th>3</th>\n",
       "      <td>Male</td>\n",
       "      <td>51.0</td>\n",
       "      <td>180.32</td>\n",
       "      <td>Healthy Weight</td>\n",
       "      <td>76.437</td>\n",
       "    </tr>\n",
       "    <tr>\n",
       "      <th>4</th>\n",
       "      <td>Female</td>\n",
       "      <td>22.0</td>\n",
       "      <td>173.00</td>\n",
       "      <td>Over Weight</td>\n",
       "      <td>101.877</td>\n",
       "    </tr>\n",
       "  </tbody>\n",
       "</table>\n",
       "</div>"
      ],
      "text/plain": [
       "   Gender   Age  Height (cm) Weight Category  Weight (KG)\n",
       "0    Male  37.0       173.02  Healthy Weight       61.384\n",
       "1    Male  19.0       171.25     Over Weight       92.550\n",
       "2  Female  26.0       171.39  Healthy Weight       57.782\n",
       "3    Male  51.0       180.32  Healthy Weight       76.437\n",
       "4  Female  22.0       173.00     Over Weight      101.877"
      ]
     },
     "execution_count": 27,
     "metadata": {},
     "output_type": "execute_result"
    }
   ],
   "source": [
    "df.head()"
   ]
  },
  {
   "cell_type": "code",
   "execution_count": 26,
   "metadata": {},
   "outputs": [
    {
     "data": {
      "text/html": [
       "<div>\n",
       "<style scoped>\n",
       "    .dataframe tbody tr th:only-of-type {\n",
       "        vertical-align: middle;\n",
       "    }\n",
       "\n",
       "    .dataframe tbody tr th {\n",
       "        vertical-align: top;\n",
       "    }\n",
       "\n",
       "    .dataframe thead th {\n",
       "        text-align: right;\n",
       "    }\n",
       "</style>\n",
       "<table border=\"1\" class=\"dataframe\">\n",
       "  <thead>\n",
       "    <tr style=\"text-align: right;\">\n",
       "      <th></th>\n",
       "      <th>Gender</th>\n",
       "      <th>Age</th>\n",
       "      <th>Height (cm)</th>\n",
       "      <th>Weight Category</th>\n",
       "      <th>Weight (KG)</th>\n",
       "    </tr>\n",
       "  </thead>\n",
       "  <tbody>\n",
       "    <tr>\n",
       "      <th>495</th>\n",
       "      <td>Male</td>\n",
       "      <td>43.0</td>\n",
       "      <td>175.40</td>\n",
       "      <td>Over Weight</td>\n",
       "      <td>87.558</td>\n",
       "    </tr>\n",
       "    <tr>\n",
       "      <th>496</th>\n",
       "      <td>Male</td>\n",
       "      <td>61.0</td>\n",
       "      <td>171.25</td>\n",
       "      <td>Over Weight</td>\n",
       "      <td>90.841</td>\n",
       "    </tr>\n",
       "    <tr>\n",
       "      <th>497</th>\n",
       "      <td>Female</td>\n",
       "      <td>18.0</td>\n",
       "      <td>164.98</td>\n",
       "      <td>Healthy Weight</td>\n",
       "      <td>63.133</td>\n",
       "    </tr>\n",
       "    <tr>\n",
       "      <th>498</th>\n",
       "      <td>Male</td>\n",
       "      <td>57.0</td>\n",
       "      <td>173.80</td>\n",
       "      <td>Healthy Weight</td>\n",
       "      <td>68.264</td>\n",
       "    </tr>\n",
       "    <tr>\n",
       "      <th>499</th>\n",
       "      <td>Male</td>\n",
       "      <td>62.0</td>\n",
       "      <td>168.15</td>\n",
       "      <td>Healthy Weight</td>\n",
       "      <td>60.674</td>\n",
       "    </tr>\n",
       "  </tbody>\n",
       "</table>\n",
       "</div>"
      ],
      "text/plain": [
       "     Gender   Age  Height (cm) Weight Category  Weight (KG)\n",
       "495    Male  43.0       175.40     Over Weight       87.558\n",
       "496    Male  61.0       171.25     Over Weight       90.841\n",
       "497  Female  18.0       164.98  Healthy Weight       63.133\n",
       "498    Male  57.0       173.80  Healthy Weight       68.264\n",
       "499    Male  62.0       168.15  Healthy Weight       60.674"
      ]
     },
     "execution_count": 26,
     "metadata": {},
     "output_type": "execute_result"
    }
   ],
   "source": [
    "df.tail()"
   ]
  },
  {
   "cell_type": "markdown",
   "metadata": {},
   "source": [
    "## Determining Weight using Gender\n",
    "From the CSO website https://www.cso.ie/en/releasesandpublications/ep/p-wamii/womenandmeninireland2016/health/#d.en.142587 I was able see what the percentage of adult Females and Males are that are overweight, unfortunately I wasn't able to find a reliable figure for average weight or standard deviation, or how weight is generally distributed across the population.\n",
    "\n",
    "Males overweight - 63.1%\n",
    "\n",
    "Females overweight - 48.4%\n",
    "\n",
    "Knowing the percentage of women and men that are overweight I am going to use this to information to determine for a given individual whether or not they are overweight.\n",
    "\n",
    "Once it is determined whether or not they are overweight or a healthy weight (ignoring here the possibility of being severely underweight) I will estimate a value for the weight they are taking into account their height as the criteria for someone being overweight is proportional to their height (e.g. for two different individuals at the same weight one may be overweight and the other not if their weight differs significantly).\n",
    "\n",
    "Whether someone is overweight or not is determined by their BMI and from the CSO page linked above, they cite a BMI between 25 and 30 as being pre-obese and anything greater than 30 as obese.\n",
    "BMI is calculated using the formula:\n",
    "\\begin{align}\n",
    "\\ BMI & = \\frac{m}{h^{2}} \\\\\n",
    "\\end{align}\n",
    "\n",
    "Where m is mass (or Weight) in kg and h is height in cm."
   ]
  },
  {
   "cell_type": "code",
   "execution_count": 16,
   "metadata": {},
   "outputs": [],
   "source": [
    "for index, row in df.iterrows(): #loop through each row in dataframe\n",
    "    if(row['Gender'] == 'Female'): #if row is gender then there is a 48.4% chance they are over weight\n",
    "        df.at[index,'Weight Category'] = rng.choice(['Healthy Weight', 'Over Weight'], p=[.516,.484])\n",
    "        if(df.at[index,'Weight Category'] =='Over Weight'): #depending on whether this person was over or healthy weight\n",
    "            bmi_lower = 25\n",
    "            bmi_upper = 35\n",
    "        elif(df.at[index,'Weight Category'] =='Healthy Weight'):\n",
    "            bmi_upper = 25\n",
    "            bmi_lower = 18.5\n",
    "    elif(row['Gender'] == 'Male'):\n",
    "        df.at[index,'Weight Category'] = rng.choice(['Healthy Weight', 'Over Weight'], p=[.369,.631])\n",
    "        if(df.at[index,'Weight Category'] =='Over Weight'):\n",
    "            bmi_lower = 25\n",
    "            bmi_upper = 35\n",
    "        elif(df.at[index,'Weight Category'] =='Healthy Weight'):\n",
    "            bmi_upper = 25\n",
    "            bmi_lower = 18.5\n",
    "    bmi = rng.uniform(bmi_lower,bmi_upper)\n",
    "    height = df.at[index,'Height (cm)']/100\n",
    "    weight = bmi*(height**2)\n",
    "    df.at[index, 'Weight (KG)'] = np.round(weight, 3)"
   ]
  },
  {
   "cell_type": "code",
   "execution_count": 18,
   "metadata": {},
   "outputs": [
    {
     "data": {
      "text/html": [
       "<div>\n",
       "<style scoped>\n",
       "    .dataframe tbody tr th:only-of-type {\n",
       "        vertical-align: middle;\n",
       "    }\n",
       "\n",
       "    .dataframe tbody tr th {\n",
       "        vertical-align: top;\n",
       "    }\n",
       "\n",
       "    .dataframe thead th {\n",
       "        text-align: right;\n",
       "    }\n",
       "</style>\n",
       "<table border=\"1\" class=\"dataframe\">\n",
       "  <thead>\n",
       "    <tr style=\"text-align: right;\">\n",
       "      <th></th>\n",
       "      <th>Gender</th>\n",
       "      <th>Age</th>\n",
       "      <th>Height (cm)</th>\n",
       "      <th>Weight Category</th>\n",
       "      <th>Weight (KG)</th>\n",
       "    </tr>\n",
       "  </thead>\n",
       "  <tbody>\n",
       "    <tr>\n",
       "      <th>0</th>\n",
       "      <td>Male</td>\n",
       "      <td>37.0</td>\n",
       "      <td>173.02</td>\n",
       "      <td>Over Weight</td>\n",
       "      <td>88.469</td>\n",
       "    </tr>\n",
       "    <tr>\n",
       "      <th>1</th>\n",
       "      <td>Male</td>\n",
       "      <td>19.0</td>\n",
       "      <td>171.25</td>\n",
       "      <td>Healthy Weight</td>\n",
       "      <td>64.151</td>\n",
       "    </tr>\n",
       "    <tr>\n",
       "      <th>2</th>\n",
       "      <td>Female</td>\n",
       "      <td>26.0</td>\n",
       "      <td>171.39</td>\n",
       "      <td>Healthy Weight</td>\n",
       "      <td>54.440</td>\n",
       "    </tr>\n",
       "    <tr>\n",
       "      <th>3</th>\n",
       "      <td>Male</td>\n",
       "      <td>51.0</td>\n",
       "      <td>180.32</td>\n",
       "      <td>Over Weight</td>\n",
       "      <td>110.898</td>\n",
       "    </tr>\n",
       "    <tr>\n",
       "      <th>4</th>\n",
       "      <td>Female</td>\n",
       "      <td>22.0</td>\n",
       "      <td>173.00</td>\n",
       "      <td>Healthy Weight</td>\n",
       "      <td>68.189</td>\n",
       "    </tr>\n",
       "    <tr>\n",
       "      <th>...</th>\n",
       "      <td>...</td>\n",
       "      <td>...</td>\n",
       "      <td>...</td>\n",
       "      <td>...</td>\n",
       "      <td>...</td>\n",
       "    </tr>\n",
       "    <tr>\n",
       "      <th>495</th>\n",
       "      <td>Male</td>\n",
       "      <td>43.0</td>\n",
       "      <td>175.40</td>\n",
       "      <td>Healthy Weight</td>\n",
       "      <td>74.919</td>\n",
       "    </tr>\n",
       "    <tr>\n",
       "      <th>496</th>\n",
       "      <td>Male</td>\n",
       "      <td>61.0</td>\n",
       "      <td>171.25</td>\n",
       "      <td>Over Weight</td>\n",
       "      <td>94.889</td>\n",
       "    </tr>\n",
       "    <tr>\n",
       "      <th>497</th>\n",
       "      <td>Female</td>\n",
       "      <td>18.0</td>\n",
       "      <td>164.98</td>\n",
       "      <td>Over Weight</td>\n",
       "      <td>76.360</td>\n",
       "    </tr>\n",
       "    <tr>\n",
       "      <th>498</th>\n",
       "      <td>Male</td>\n",
       "      <td>57.0</td>\n",
       "      <td>173.80</td>\n",
       "      <td>Healthy Weight</td>\n",
       "      <td>68.511</td>\n",
       "    </tr>\n",
       "    <tr>\n",
       "      <th>499</th>\n",
       "      <td>Male</td>\n",
       "      <td>62.0</td>\n",
       "      <td>168.15</td>\n",
       "      <td>Healthy Weight</td>\n",
       "      <td>65.089</td>\n",
       "    </tr>\n",
       "  </tbody>\n",
       "</table>\n",
       "<p>500 rows × 5 columns</p>\n",
       "</div>"
      ],
      "text/plain": [
       "     Gender   Age  Height (cm) Weight Category  Weight (KG)\n",
       "0      Male  37.0       173.02     Over Weight       88.469\n",
       "1      Male  19.0       171.25  Healthy Weight       64.151\n",
       "2    Female  26.0       171.39  Healthy Weight       54.440\n",
       "3      Male  51.0       180.32     Over Weight      110.898\n",
       "4    Female  22.0       173.00  Healthy Weight       68.189\n",
       "..      ...   ...          ...             ...          ...\n",
       "495    Male  43.0       175.40  Healthy Weight       74.919\n",
       "496    Male  61.0       171.25     Over Weight       94.889\n",
       "497  Female  18.0       164.98     Over Weight       76.360\n",
       "498    Male  57.0       173.80  Healthy Weight       68.511\n",
       "499    Male  62.0       168.15  Healthy Weight       65.089\n",
       "\n",
       "[500 rows x 5 columns]"
      ]
     },
     "execution_count": 18,
     "metadata": {},
     "output_type": "execute_result"
    }
   ],
   "source": [
    "df"
   ]
  },
  {
   "cell_type": "code",
   "execution_count": 19,
   "metadata": {},
   "outputs": [
    {
     "data": {
      "image/png": "[encoded data removed]",
      "text/plain": [
       "<Figure size 432x288 with 1 Axes>"
      ]
     },
     "metadata": {
      "needs_background": "light"
     },
     "output_type": "display_data"
    }
   ],
   "source": [
    "import seaborn as sns\n",
    "sns.scatterplot( x='Weight (KG)', y='Height (cm)', data=df, hue='Gender', style='Weight Category');"
   ]
  },
  {
   "cell_type": "markdown",
   "metadata": {},
   "source": [
    "### Instead of bmi being uniformly distributed what if it is infact normally distributed\n",
    "I want to see what the difference will be if instead of bmi's for over weight and healthy weight being normally distributed, I thought that perhaps in reality they are centered around the median bmi and normally distributed, which is to say that a healthy weight person is more likely to be reliably far away from being under weight or over weight and similarly for an over weight individual.\n",
    "\n",
    "To explain what I mean, I believe that a person who is either in the over weight or healthy weight categories to be more likely to the median value than edge cases, to capture this I am going to produce normal distributions with 2 standard deviations being the distance from median to upper or lower limits of bmi.\n",
    "\n",
    "So a over weight bmi would have median of 30, with standard deviation of 2.5.\n",
    "Healthy weight bmi has a median of 21.75 with a standard deviation of 1.625.\n",
    "\n",
    "However by using 2 standard deviations to get from the median to the upper and lower limits does mean that in some rare cases (e.g. around 4 percent of the time) it will exceed the limits, to account for this I will add an if statement to check for this and to set the bmi in those cases to the nearest bmi limit."
   ]
  },
  {
   "cell_type": "code",
   "execution_count": 20,
   "metadata": {},
   "outputs": [],
   "source": [
    "for index, row in df.iterrows(): #loop through each row in dataframe\n",
    "    if(row['Gender'] == 'Female'): #if row is gender then there is a 48.4% chance they are over weight\n",
    "        df.at[index,'Weight Category'] = rng.choice(['Healthy Weight', 'Over Weight'], p=[.516,.484])\n",
    "        if(df.at[index,'Weight Category'] =='Over Weight'): #depending on whether this person was over or healthy weight\n",
    "            bmi = rng.normal(30,2.5)\n",
    "            if (bmi<25): bmi = 25\n",
    "            if (bmi>35): bmi = 35\n",
    "        elif(df.at[index,'Weight Category'] =='Healthy Weight'):\n",
    "            bmi = rng.normal(21.75,1.625)\n",
    "            if (bmi<18.5): bmi = 18.5\n",
    "            if (bmi>25): bmi = 25\n",
    "    elif(row['Gender'] == 'Male'):\n",
    "        df.at[index,'Weight Category'] = rng.choice(['Healthy Weight', 'Over Weight'], p=[.369,.631])\n",
    "        if(df.at[index,'Weight Category'] =='Over Weight'):\n",
    "            bmi = rng.normal(30,2.5)\n",
    "            if (bmi<25): bmi = 25\n",
    "            if (bmi>35): bmi = 35\n",
    "        elif(df.at[index,'Weight Category'] =='Healthy Weight'):\n",
    "            bmi = rng.normal(21.75,1.625)\n",
    "            if (bmi<18.5): bmi = 18.5\n",
    "            if (bmi>25): bmi = 25\n",
    "    #bmi = rng.uniform(bmi_lower,bmi_upper)\n",
    "    height = df.at[index,'Height (cm)']/100\n",
    "    weight = bmi*(height**2)\n",
    "    df.at[index, 'Weight (KG)'] = np.round(weight, 3)"
   ]
  },
  {
   "cell_type": "code",
   "execution_count": 21,
   "metadata": {},
   "outputs": [
    {
     "data": {
      "image/png": "[encoded data removed]",
      "text/plain": [
       "<Figure size 432x288 with 1 Axes>"
      ]
     },
     "metadata": {
      "needs_background": "light"
     },
     "output_type": "display_data"
    }
   ],
   "source": [
    "sns.scatterplot( x='Weight (KG)', y='Height (cm)', data=df, hue='Gender', style='Weight Category');"
   ]
  },
  {
   "cell_type": "code",
   "execution_count": null,
   "metadata": {},
   "outputs": [],
   "source": []
  }
 ],
 "metadata": {
  "kernelspec": {
   "display_name": "Python 3",
   "language": "python",
   "name": "python3"
  },
  "language_info": {
   "codemirror_mode": {
    "name": "ipython",
    "version": 3
   },
   "file_extension": ".py",
   "mimetype": "text/x-python",
   "name": "python",
   "nbconvert_exporter": "python",
   "pygments_lexer": "ipython3",
   "version": "3.8.5"
  }
 },
 "nbformat": 4,
 "nbformat_minor": 4
}
